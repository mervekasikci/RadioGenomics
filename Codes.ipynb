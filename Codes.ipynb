{
 "cells": [
  {
   "cell_type": "code",
   "execution_count": 1,
   "id": "3fa2f040-1981-4844-8b41-bd4e55e20ee9",
   "metadata": {},
   "outputs": [
    {
     "name": "stderr",
     "output_type": "stream",
     "text": [
      "Loading required package: lattice\n",
      "Loading required package: ggplot2\n",
      "Registered S3 methods overwritten by 'ggplot2':\n",
      "  method         from \n",
      "  [.quosures     rlang\n",
      "  c.quosures     rlang\n",
      "  print.quosures rlang\n"
     ]
    }
   ],
   "source": [
    
install.packages("BinNor", dependencies = TRUE)
install.packages("plyr", dependencies = TRUE)
install.packages("caret", dependencies = TRUE)
install.packages("GMDH2", dependencies = TRUE)
install.packages("caTools", dependencies = TRUE)

library("BinNor")
library("plyr")
library("caret")
library("GMDH2")
library("caTools")


start <- Sys.time()

######### Radiomics features
radiomics_features <- read.delim("D:/Ders/dicom/radiomics_features.txt")
row.names(radiomics_features) <- radiomics_features[,1]
radiomics_features <- radiomics_features[,-1]
dim(radiomics_features)


######### Clinical data
clinical_data <- read.delim("D:/Ders/dicom/NSCLCR01_Clinical_data.txt")
row.names(clinical_data) <- clinical_data[,1]
clinical_data <- clinical_data[,-1]


######### Genetic data
genetic_data_first <- read.delim("D:/Ders/dicom/GSE103584_R01_NSCLC_RNAseq.txt")
genetic_data <- t(genetic_data_first)
genetic_data <- as.data.frame(genetic_data)
colnames(genetic_data) <- genetic_data_first[,1]
genetic_data <- genetic_data[-1,]


######### Removing columns containing NA in genetic data
na_genes <- NULL
for(i in 1:dim(genetic_data)[2])
{
  if(sum(is.na(genetic_data[,i]))>0){
    na_genes <- c(na_genes, names(genetic_data)[i])
  }
}

genetic_data_filtered <- subset(genetic_data, select = ! names(genetic_data) %in% na_genes)
dim(genetic_data_filtered)

row.names(genetic_data_filtered) <- gsub('R01.', 'R01-', row.names(genetic_data_filtered))
genetic_data_filtered <- as.data.frame(genetic_data_filtered)
genetic_data_filtered <- as.matrix(genetic_data_filtered)
storage.mode(genetic_data_filtered) <- "double"


######### Selecting common samples for all data sets
common_samples <- intersect(row.names(radiomics_features), row.names(genetic_data_filtered))
radiomics_features_common <- radiomics_features[rownames(radiomics_features) %in% common_samples, ]  # Extract rows from data
genetic_data_common <- genetic_data_filtered[rownames(genetic_data_filtered) %in% common_samples, ]
clinical_data_common <- clinical_data[rownames(clinical_data) %in% common_samples, ]

summary(as.factor(clinical_data_common$Histology))

nsclc_nos <- row.names(clinical_data_common[clinical_data_common$Histology=="NSCLC NOS (not otherwise specified)",])
radiomics_features_last <- radiomics_features_common[!rownames(radiomics_features_common) %in% nsclc_nos, ] 
genetic_data_last <- genetic_data_common[!rownames(genetic_data_common) %in% nsclc_nos, ] 
clinical_data_last <- clinical_data_common[!rownames(clinical_data_common) %in% nsclc_nos, ] 

data <- cbind(clinical_data_last$Histology, radiomics_features_last, genetic_data_last)
colnames(data)[1] <- "Histology"

dim(data)

data$Histology <- plyr::revalue(data$Histology, c("Adenocarcinoma" = "1", 
                                                  "Squamous cell carcinoma" = "0"))
data$Histology <- as.numeric(data$Histology)

data[,34:5301] <- log2(data[,34:5301])
data[,2:33] <- scale(data[,2:33])


########################################################################
############################ Data simulation############################
########################################################################

M <- 100

sim_data <- NULL
results <- NULL


for(i in 1:M){
  
  set.seed(i)
  
  no.rows=58
  no.bin=1 
  prop.vec.bin=42/58 #########################
  no.nor=5300
  cmat = cor(data[,1:5301])
  data_numeric <- data[,2:5301]
  mean.vec.nor=lapply(data_numeric, mean)
  var.nor=lapply(data_numeric, var)
  
  near.m <- nearPD(cmat)
  diag(near.m$mat) <- 1
  
  sigma.star=compute.sigma.star(no.bin=1, no.nor=5300, prop.vec.bin=prop.vec.bin, 
                                 corr.mat= as.matrix(near.m$mat))
  
  sim_data=jointly.generate.binary.normal(no.rows,no.bin,no.nor,prop.vec.bin,
                                         as.numeric(mean.vec.nor),
                                         as.numeric(var.nor), 
                                         sigma_star=sigma.star$sigma_star, 
                                        continue.with.warning=TRUE)
  sim_data <- as.data.frame(sim_data)
  names(sim_data) <- names(data)[1:5301]
  
  ### Train-test sets
  index=sample.split(sim_data $Histology, SplitRatio=0.7)
  train=sim_data[index,]
  test=sim_data[!index,]
  summary(as.factor(train$Histology))
  summary(as.factor(test$Histology))
  
  train$Histology <- as.factor(train$Histology)
  train$Histology <- droplevels(train$Histology)
  summary(train$Histology)
  class(train$Histology)
  levels(train$Histology) <- gsub(" ", "_", levels(train$Histology))
  levels(train$Histology)
  
  test$Histology <- as.factor(test$Histology)
  test$Histology <- droplevels(test$Histology)
  summary(test$Histology)
  class(test$Histology)
  levels(test$Histology) <- gsub(" ", "_", levels(test$Histology))
  levels(test$Histology)
  
  test$Histology <- plyr::revalue(test$Histology, 
                                  c("1" = "Adenocarcinoma", 
                                    "0" = "Squamous_cell_carcinoma"))
  
  ####################################################################################
  ######################################## AUC #######################################
  ####################################################################################
  
  AUC_results <- colAUC(train[,2:33], train$Histology)
  View(AUC_results)
  AUC_names <- store <- NULL
  for(j in 1:length(AUC_results)){
    if(AUC_results[1,][j]>0.60){
      AUC_names <- names(AUC_results[1,][j])
      store <- cbind(store, AUC_names)
    }
  }
  length(store)
  radiomics_data_AUC <- subset(train[,2:33], select = store[1,])
  radiomics_data_AUC_Histology <- cbind(train$Histology, radiomics_data_AUC)
  names(radiomics_data_AUC_Histology)[1] <- "Histology"
  
  
  AUC_results <- colAUC(train[,34:5301], train$Histology)
  View(AUC_results)
  AUC_names <- store <- NULL
  for(j in 1:length(AUC_results)){
    if(AUC_results[1,][j]>0.60){
      AUC_names <- names(AUC_results[1,][j])
      store <- cbind(store, AUC_names)
    }
  }
  length(store)
  
  genetic_data_AUC <- subset(train[,34:5301], select = store[1,])
  dim(genetic_data_AUC)
  genetic_data_AUC_histology <- cbind(train$Histology, genetic_data_AUC)
  names(genetic_data_AUC_histology)[1] <- "Histology"
  
  
  all_AUC <- cbind(radiomics_data_AUC_Histology, genetic_data_AUC_histology[,-1])
  
  radiomics_data_AUC_Histology$Histology <- plyr::revalue(radiomics_data_AUC_Histology$Histology, 
                                                          c("1" = "Adenocarcinoma", 
                                                            "0" = "Squamous_cell_carcinoma"))
  
  genetic_data_AUC_histology$Histology <- plyr::revalue(genetic_data_AUC_histology$Histology, 
                                                        c("1" = "Adenocarcinoma", 
                                                          "0" = "Squamous_cell_carcinoma"))
  
  all_AUC$Histology <- plyr::revalue(all_AUC$Histology, 
                                     c("1" = "Adenocarcinoma", 
                                       "0" = "Squamous_cell_carcinoma"))
  
  
  #Cross-validation
  ctrl = trainControl(method="cv", number=5, returnResamp = "final", summaryFunction = prSummary, classProbs = TRUE,
                      savePredictions = T, verbose=F)
  
  ########## Elastic Net
  
  model_en_AUC_radiomics = train(Histology~., data = radiomics_data_AUC_Histology, method = "glmnet", trControl = ctrl, tuneLength=5)
  pred_en_AUC_radiomics <- predict(model_en_AUC_radiomics, test[,-1])
  perf_en_AUC_radiomics <- confMat(pred_en_AUC_radiomics, test$Histology, verbose = FALSE, positive = "Adenocarcinoma")$all
  
  model_en_AUC_genomics = train(Histology~., data = genetic_data_AUC_histology, method = "glmnet", trControl = ctrl, tuneLength=5)
  pred_en_AUC_genomics <- predict(model_en_AUC_genomics, test[,-1])
  perf_en_AUC_genomics <- confMat(pred_en_AUC_genomics, test$Histology, verbose = FALSE, positive = "Adenocarcinoma")$all
  
  model_en_AUC_all = train(Histology~., data = all_AUC, method = "glmnet", trControl = ctrl, tuneLength=5)
  pred_en_AUC_all <- predict(model_en_AUC_all, test[,-1])
  perf_en_AUC_all <- confMat(pred_en_AUC_all, test$Histology, verbose = FALSE, positive = "Adenocarcinoma")$all
  
  
  ########## Random Forest
  model_rf_AUC_radiomics = train(Histology~., data = radiomics_data_AUC_Histology, method = "rf", trControl = ctrl, tuneLength=5)
  pred_rf_AUC_radiomics <- predict(model_rf_AUC_radiomics, test[,-1])
  perf_rf_AUC_radiomics <- confMat(pred_rf_AUC_radiomics, test$Histology, verbose = FALSE, positive = "Adenocarcinoma")$all
  
  model_rf_AUC_genomics = train(Histology~., data = genetic_data_AUC_histology, method = "rf", trControl = ctrl, tuneLength=5)
  pred_rf_AUC_genomics <- predict(model_rf_AUC_genomics, test[,-1])
  perf_rf_AUC_genomics <- confMat(pred_rf_AUC_genomics, test$Histology, verbose = FALSE, positive = "Adenocarcinoma")$all
  
  model_rf_AUC_all = train(Histology~., data = all_AUC, method = "rf", trControl = ctrl, tuneLength=5)
  pred_rf_AUC_all <- predict(model_rf_AUC_all, test[,-1])
  perf_rf_AUC_all <- confMat(pred_rf_AUC_all, test$Histology, verbose = FALSE, positive = "Adenocarcinoma")$all

  
  ########## Support Vector Machines - Linear
  model_svm_linear_AUC_radiomics = train(Histology~., data = radiomics_data_AUC_Histology, method = "svmLinear", trControl = ctrl, tuneLength=5)
  pred_svm_linear_AUC_radiomics <- predict(model_svm_linear_AUC_radiomics, test[,-1])
  perf_svm_linear_AUC_radiomics <- confMat(pred_svm_linear_AUC_radiomics, test$Histology, verbose = FALSE, positive = "Adenocarcinoma")$all
  
  model_svm_linear_AUC_genomics = train(Histology~., data = genetic_data_AUC_histology, method = "svmLinear", trControl = ctrl, tuneLength=5)
  pred_svm_linear_AUC_genomics <- predict(model_svm_linear_AUC_genomics, test[,-1])
  perf_svm_linear_AUC_genomics <- confMat(pred_svm_linear_AUC_genomics, test$Histology, verbose = FALSE, positive = "Adenocarcinoma")$all
  
  model_svm_linear_AUC_all = train(Histology~., data = all_AUC, method = "svmLinear", trControl = ctrl, tuneLength=5)
  pred_svm_linear_AUC_all <- predict(model_svm_linear_AUC_all, test[,-1])
  perf_svm_linear_AUC_all <- confMat(pred_svm_linear_AUC_all, test$Histology, verbose = FALSE, positive = "Adenocarcinoma")$all

  
  ########## Support Vector Machines - Radial
  model_svm_radial_AUC_radiomics = train(Histology~., data = radiomics_data_AUC_Histology, method = "svmRadial", trControl = ctrl, tuneLength=5)
  pred_svm_radial_AUC_radiomics <- predict(model_svm_radial_AUC_radiomics, test[,-1])
  perf_svm_radial_AUC_radiomics <- confMat(pred_svm_radial_AUC_radiomics, test$Histology, verbose = FALSE, positive = "Adenocarcinoma")$all
  
  model_svm_radial_AUC_genomics = train(Histology~., data = genetic_data_AUC_histology, method = "svmRadial", trControl = ctrl, tuneLength=5)
  pred_svm_radial_AUC_genomics <- predict(model_svm_radial_AUC_genomics, test[,-1])
  perf_svm_radial_AUC_genomics <- confMat(pred_svm_radial_AUC_genomics, test$Histology, verbose = FALSE, positive = "Adenocarcinoma")$all
  
  model_svm_radial_AUC_all = train(Histology~., data = all_AUC, method = "svmRadial", trControl = ctrl, tuneLength=5)
  pred_svm_radial_AUC_all <- predict(model_svm_radial_AUC_all, test[,-1])
  perf_svm_radial_AUC_all <- confMat(pred_svm_radial_AUC_all, test$Histology, verbose = FALSE, positive = "Adenocarcinoma")$all
  
  
  ########## Support Vector Machines - Polynomial
  model_svm_poly_AUC_radiomics = train(Histology~., data = radiomics_data_AUC_Histology, method = "svmPoly", trControl = ctrl, tuneLength=5)
  pred_svm_poly_AUC_radiomics <- predict(model_svm_poly_AUC_radiomics, test[,-1])
  perf_svm_poly_AUC_radiomics <- confMat(pred_svm_poly_AUC_radiomics, test$Histology, verbose = FALSE, positive = "Adenocarcinoma")$all
  
  model_svm_poly_AUC_genomics = train(Histology~., data = genetic_data_AUC_histology, method = "svmPoly", trControl = ctrl, tuneLength=5)
  pred_svm_poly_AUC_genomics <- predict(model_svm_poly_AUC_genomics, test[,-1])
  perf_svm_poly_AUC_genomics <- confMat(pred_svm_poly_AUC_genomics, test$Histology, verbose = FALSE, positive = "Adenocarcinoma")$all
  
  model_svm_poly_AUC_all = train(Histology~., data = all_AUC, method = "svmPoly", trControl = ctrl, tuneLength=5)
  pred_svm_poly_AUC_all <- predict(model_svm_poly_AUC_all, test[,-1])
  perf_svm_poly_AUC_all <- confMat(pred_svm_poly_AUC_all, test$Histology, verbose = FALSE, positive = "Adenocarcinoma")$all
  
  
  ########## XGBoost
  model_xgboost_AUC_radiomics = train(Histology~., data = radiomics_data_AUC_Histology, method = "xgbTree", trControl = ctrl, tuneLength=5)
  pred_xgboost_AUC_radiomics <- predict(model_xgboost_AUC_radiomics, test[,-1])
  perf_xgboost_AUC_radiomics <- confMat(pred_xgboost_AUC_radiomics, test$Histology, verbose = FALSE, positive = "Adenocarcinoma")$all
  
  model_xgboost_AUC_genomics = train(Histology~., data = genetic_data_AUC_histology, method = "xgbTree", trControl = ctrl, tuneLength=5)
  pred_xgboost_AUC_genomics <- predict(model_xgboost_AUC_genomics, test[,-1])
  perf_xgboost_AUC_genomics <- confMat(pred_xgboost_AUC_genomics, test$Histology, verbose = FALSE, positive = "Adenocarcinoma")$all
  
  model_xgboost_AUC_all = train(Histology~., data = all_AUC, method = "xgbTree", trControl = ctrl, tuneLength=5)
  pred_xgboost_AUC_all <- predict(model_xgboost_AUC_all, test[,-1])
  perf_xgboost_AUC_all <- confMat(pred_xgboost_AUC_all, test$Histology, verbose = FALSE, positive = "Adenocarcinoma")$all
  
  
  ####################################################################################
  ######################################## RFE #######################################
  ####################################################################################
  
  control_rfe = rfeControl(functions = rfFuncs, 
                           method = "repeatedcv", 
                           number = 5, repeats = 5) 
  
  radiomics <- train[,1:33]
  result_rfe_radiomics = rfe(x = radiomics[,-1], # 
                             y = as.factor(radiomics[,1]), 
                             sizes = c(5:(dim(radiomics)[2]*0.50)), rfeControl = control_rfe)
  radiomics_rfe <- cbind(as.factor(radiomics[,1]), subset(radiomics, select = result_rfe_radiomics$optVariables)) #[1:5]
  names(radiomics_rfe)[1] <- "Histology"
  
  
  genomics <- train[,c(1,34:5301)]
  result_rfe_genomics = rfe(x = genomics[,-1], 
                            y = genomics[,1], 
                            sizes = c(5, 50, 100, 250, 500, 1000), rfeControl = control_rfe)
  genomics_rfe <- cbind(as.factor(genomics[,1]), subset(genomics, select = result_rfe_genomics$optVariables)) #[1:5]
  names(genomics_rfe)[1] <- "Histology"
  
  all_rfe <- cbind(radiomics_rfe, genomics_rfe[,-1])
  
  
  radiomics_rfe$Histology <- plyr::revalue(radiomics_rfe$Histology, 
                                           c("1" = "Adenocarcinoma", 
                                             "0" = "Squamous_cell_carcinoma"))
  
  genomics_rfe$Histology <- plyr::revalue(genomics_rfe$Histology, 
                                          c("1" = "Adenocarcinoma", 
                                            "0" = "Squamous_cell_carcinoma"))
  
  all_rfe$Histology <- plyr::revalue(all_rfe$Histology, 
                                     c("1" = "Adenocarcinoma", 
                                       "0" = "Squamous_cell_carcinoma"))
  
  test$Histology <- plyr::revalue(test$Histology, 
                                  c("1" = "Adenocarcinoma", 
                                    "0" = "Squamous_cell_carcinoma"))
  
  #Cross-validation
  ctrl = trainControl(method="cv", number=5, returnResamp = "final", summaryFunction = prSummary, classProbs = TRUE,
                      savePredictions = T, verbose=F)
  
  ########## Elastic net
  
  model_en_RFE_radiomics = train(Histology~., data = radiomics_rfe, method = "glmnet", trControl = ctrl, tuneLength=5)
  pred_en_RFE_radiomics <- predict(model_en_RFE_radiomics, test[,-1])
  perf_en_RFE_radiomics <- confMat(pred_en_RFE_radiomics, test$Histology, verbose = FALSE, positive = "Adenocarcinoma")$all
  
  model_en_RFE_genomics = train(Histology~., data = genomics_rfe, method = "glmnet", trControl = ctrl, tuneLength=5)
  pred_en_RFE_genomics <- predict(model_en_RFE_genomics, test[,-1])
  perf_en_RFE_genomics <- confMat(pred_en_RFE_genomics, test$Histology, verbose = FALSE, positive = "Adenocarcinoma")$all
  
  model_en_RFE_all = train(Histology~., data = all_rfe, method = "glmnet", trControl = ctrl, tuneLength=5)
  pred_en_RFE_all <- predict(model_en_RFE_all, test[,-1])
  perf_en_RFE_all <- confMat(pred_en_RFE_all, test$Histology, verbose = FALSE, positive = "Adenocarcinoma")$all
  
  
  ########## Random Forest
  model_rf_RFE_radiomics = train(Histology~., data = radiomics_rfe, method = "rf", trControl = ctrl, tuneLength=5)
  pred_rf_RFE_radiomics <- predict(model_rf_RFE_radiomics, test[,-1])
  perf_rf_RFE_radiomics <- confMat(pred_rf_RFE_radiomics, test$Histology, verbose = FALSE, positive = "Adenocarcinoma")$all

  model_rf_RFE_genomics = train(Histology~., data = genomics_rfe, method = "rf", trControl = ctrl, tuneLength=5)
  pred_rf_RFE_genomics <- predict(model_rf_RFE_genomics, test[,-1])
  perf_rf_RFE_genomics <- confMat(pred_rf_RFE_genomics, test$Histology, verbose = FALSE, positive = "Adenocarcinoma")$all
  
  model_rf_RFE_all = train(Histology~., data = all_rfe, method = "rf", trControl = ctrl, tuneLength=5)
  pred_rf_RFE_all <- predict(model_rf_RFE_all, test[,-1])
  perf_rf_RFE_all <- confMat(pred_rf_RFE_all, test$Histology, verbose = FALSE, positive = "Adenocarcinoma")$all

  
  ########## Support Vector Machines - Linear
  model_svm_linear_RFE_radiomics = train(Histology~., data = radiomics_rfe, method = "svmLinear", trControl = ctrl, tuneLength=5)
  pred_svm_linear_RFE_radiomics <- predict(model_svm_linear_RFE_radiomics, test[,-1])
  perf_svm_linear_RFE_radiomics <- confMat(pred_svm_linear_RFE_radiomics, test$Histology, verbose = FALSE, positive = "Adenocarcinoma")$all
  
  model_svm_linear_RFE_genomics = train(Histology~., data = genomics_rfe, method = "svmLinear", trControl = ctrl, tuneLength=5)
  pred_svm_linear_RFE_genomics <- predict(model_svm_linear_RFE_genomics, test[,-1])
  perf_svm_linear_RFE_genomics <- confMat(pred_svm_linear_RFE_genomics, test$Histology, verbose = FALSE, positive = "Adenocarcinoma")$all
  
  model_svm_linear_RFE_all = train(Histology~., data = all_rfe, method = "svmLinear", trControl = ctrl, tuneLength=5)
  pred_svm_linear_RFE_all <- predict(model_svm_linear_RFE_all, test[,-1])
  perf_svm_linear_RFE_all <- confMat(pred_svm_linear_RFE_all, test$Histology, verbose = FALSE, positive = "Adenocarcinoma")$all

  
  ########## Support Vector Machines - Radial
  model_svm_radial_RFE_radiomics = train(Histology~., data = radiomics_rfe, method = "svmRadial", trControl = ctrl, tuneLength=5)
  pred_svm_radial_RFE_radiomics <- predict(model_svm_radial_RFE_radiomics, test[,-1])
  perf_svm_radial_RFE_radiomics <- confMat(pred_svm_radial_RFE_radiomics, test$Histology, verbose = FALSE, positive = "Adenocarcinoma")$all
  
  model_svm_radial_RFE_genomics = train(Histology~., data = genomics_rfe, method = "svmRadial", trControl = ctrl, tuneLength=5)
  pred_svm_radial_RFE_genomics <- predict(model_svm_radial_RFE_genomics, test[,-1])
  perf_svm_radial_RFE_genomics <- confMat(pred_svm_radial_RFE_genomics, test$Histology, verbose = FALSE, positive = "Adenocarcinoma")$all
  
  model_svm_radial_RFE_all = train(Histology~., data = all_rfe, method = "svmRadial", trControl = ctrl, tuneLength=5)
  pred_svm_radial_RFE_all <- predict(model_svm_radial_RFE_all, test[,-1])
  perf_svm_radial_RFE_all <- confMat(pred_svm_radial_RFE_all, test$Histology, verbose = FALSE, positive = "Adenocarcinoma")$all
  
  
  ########## Support Vector Machines - Polynomial
  model_svm_poly_RFE_radiomics = train(Histology~., data = radiomics_rfe, method = "svmPoly", trControl = ctrl, tuneLength=5)
  pred_svm_poly_RFE_radiomics <- predict(model_svm_poly_RFE_radiomics, test[,-1])
  perf_svm_poly_RFE_radiomics <- confMat(pred_svm_poly_RFE_radiomics, test$Histology, verbose = FALSE, positive = "Adenocarcinoma")$all
  
  model_svm_poly_RFE_genomics = train(Histology~., data = genomics_rfe, method = "svmPoly", trControl = ctrl, tuneLength=5)
  pred_svm_poly_RFE_genomics <- predict(model_svm_poly_RFE_genomics, test[,-1])
  perf_svm_poly_RFE_genomics <- confMat(pred_svm_poly_RFE_genomics, test$Histology, verbose = FALSE, positive = "Adenocarcinoma")$all
  
  model_svm_poly_RFE_all = train(Histology~., data = all_rfe, method = "svmPoly", trControl = ctrl, tuneLength=5)
  pred_svm_poly_RFE_all <- predict(model_svm_poly_RFE_all, test[,-1])
  perf_svm_poly_RFE_all <- confMat(pred_svm_poly_RFE_all, test$Histology, verbose = FALSE, positive = "Adenocarcinoma")$all
  
  
  ########## XGBoost
  model_xgboost_RFE_radiomics = train(Histology~., data = radiomics_rfe, method = "xgbTree", trControl = ctrl, tuneLength=5)
  pred_xgboost_RFE_radiomics <- predict(model_xgboost_RFE_radiomics, test[,-1])
  perf_xgboost_RFE_radiomics <- confMat(pred_xgboost_RFE_radiomics, test$Histology, verbose = FALSE, positive = "Adenocarcinoma")$all
  
  model_xgboost_RFE_genomics = train(Histology~., data = genomics_rfe, method = "xgbTree", trControl = ctrl, tuneLength=5)
  pred_xgboost_RFE_genomics <- predict(model_xgboost_RFE_genomics, test[,-1])
  perf_xgboost_RFE_genomics <- confMat(pred_xgboost_RFE_genomics, test$Histology, verbose = FALSE, positive = "Adenocarcinoma")$all
  
  model_xgboost_RFE_all = train(Histology~., data = all_rfe, method = "xgbTree", trControl = ctrl, tuneLength=5)
  pred_xgboost_RFE_all <- predict(model_xgboost_RFE_all, test[,-1])
  perf_xgboost_RFE_all <- confMat(pred_xgboost_RFE_all, test$Histology, verbose = FALSE, positive = "Adenocarcinoma")$all

  
  ####################################################################################
  ############################# Without Feature Selection ############################
  ####################################################################################
  
  radiomics <- train[,1:33]
  genomics <- train[,c(1,34:5301)]
  all <- cbind(radiomics, genomics[,-1])
  
  radiomics$Histology <- plyr::revalue(radiomics$Histology, 
                                       c("1" = "Adenocarcinoma", 
                                         "0" = "Squamous_cell_carcinoma"))
  
  genomics$Histology <- plyr::revalue(genomics$Histology, 
                                      c("1" = "Adenocarcinoma", 
                                        "0" = "Squamous_cell_carcinoma"))
  
  all$Histology <- plyr::revalue(all$Histology, 
                                 c("1" = "Adenocarcinoma", 
                                   "0" = "Squamous_cell_carcinoma"))
  
  ########## Elastic net
  
  model_en_radiomics = train(Histology~., data = radiomics, method = "glmnet", trControl = ctrl, tuneLength=5)
  pred_en_radiomics <- predict(model_en_radiomics, test[,-1])
  perf_en_radiomics <- confMat(pred_en_radiomics, test$Histology, verbose = FALSE, positive = "Adenocarcinoma")$all
  
  model_en_genomics = train(Histology~., data = genomics, method = "glmnet", trControl = ctrl, tuneLength=5)
  pred_en_genomics <- predict(model_en_genomics, test[,-1])
  perf_en_genomics <- confMat(pred_en_genomics, test$Histology, verbose = FALSE, positive = "Adenocarcinoma")$all
  
  model_en_all = train(Histology~., data = all, method = "glmnet", trControl = ctrl, tuneLength=5)
  pred_en_all <- predict(model_en_all, test[,-1])
  perf_en_all <- confMat(pred_en_all, test$Histology, verbose = FALSE, positive = "Adenocarcinoma")$all
  
  
  ########## Random Forest
  model_rf_radiomics = train(Histology~., data = radiomics, method = "rf", trControl = ctrl, tuneLength=5)
  pred_rf_radiomics <- predict(model_rf_radiomics, test[,-1])
  perf_rf_radiomics <- confMat(pred_rf_radiomics, test$Histology, verbose = FALSE, positive = "Adenocarcinoma")$all
  
  model_rf_genomics = train(Histology~., data = genomics, method = "rf", trControl = ctrl, tuneLength=5)
  pred_rf_genomics <- predict(model_rf_genomics, test[,-1])
  perf_rf_genomics <- confMat(pred_rf_genomics, test$Histology, verbose = FALSE, positive = "Adenocarcinoma")$all
  
  model_rf_all = train(Histology~., data = all, method = "rf", trControl = ctrl, tuneLength=5)
  pred_rf_all <- predict(model_rf_all, test[,-1])
  perf_rf_all <- confMat(pred_rf_all, test$Histology, verbose = FALSE, positive = "Adenocarcinoma")$all

  
  ########## Support Vector Machines - Linear
  model_svm_linear_radiomics = train(Histology~., data = radiomics, method = "svmLinear", trControl = ctrl, tuneLength=5)
  pred_svm_linear_radiomics <- predict(model_svm_linear_radiomics, test[,-1])
  perf_svm_linear_radiomics <- confMat(pred_svm_linear_radiomics, test$Histology, verbose = FALSE, positive = "Adenocarcinoma")$all
  
  model_svm_linear_genomics = train(Histology~., data = genomics, method = "svmLinear", trControl = ctrl, tuneLength=5)
  pred_svm_linear_genomics <- predict(model_svm_linear_genomics, test[,-1])
  perf_svm_linear_genomics <- confMat(pred_svm_linear_genomics, test$Histology, verbose = FALSE, positive = "Adenocarcinoma")$all
  
  model_svm_linear_all = train(Histology~., data = all, method = "svmLinear", trControl = ctrl, tuneLength=5)
  pred_svm_linear_all <- predict(model_svm_linear_all, test[,-1])
  perf_svm_linear_all <- confMat(pred_svm_linear_all, test$Histology, verbose = FALSE, positive = "Adenocarcinoma")$all
 
  
  ########## Support Vector Machines - Radial
  model_svm_radial_radiomics = train(Histology~., data = radiomics, method = "svmRadial", trControl = ctrl, tuneLength=5)
  pred_svm_radial_radiomics <- predict(model_svm_radial_radiomics, test[,-1])
  perf_svm_radial_radiomics <- confMat(pred_svm_radial_radiomics, test$Histology, verbose = FALSE, positive = "Adenocarcinoma")$all
  
  model_svm_radial_genomics = train(Histology~., data = genomics, method = "svmRadial", trControl = ctrl, tuneLength=5)
  pred_svm_radial_genomics <- predict(model_svm_radial_genomics, test[,-1])
  perf_svm_radial_genomics <- confMat(pred_svm_radial_genomics, test$Histology, verbose = FALSE, positive = "Adenocarcinoma")$all
  
  model_svm_radial_all = train(Histology~., data = all, method = "svmRadial", trControl = ctrl, tuneLength=5)
  pred_svm_radial_all <- predict(model_svm_radial_all, test[,-1])
  perf_svm_radial_all <- confMat(pred_svm_radial_all, test$Histology, verbose = FALSE, positive = "Adenocarcinoma")$all
  
  
  ########## Support Vector Machines - Polynomial
  model_svm_poly_radiomics = train(Histology~., data = radiomics, method = "svmPoly", trControl = ctrl, tuneLength=5)
  pred_svm_poly_radiomics <- predict(model_svm_poly_radiomics, test[,-1])
  perf_svm_poly_radiomics <- confMat(pred_svm_poly_radiomics, test$Histology, verbose = FALSE, positive = "Adenocarcinoma")$all
  
  model_svm_poly_genomics = train(Histology~., data = genomics, method = "svmPoly", trControl = ctrl, tuneLength=5)
  pred_svm_poly_genomics <- predict(model_svm_poly_genomics, test[,-1])
  perf_svm_poly_genomics <- confMat(pred_svm_poly_genomics, test$Histology, verbose = FALSE, positive = "Adenocarcinoma")$all
  
  model_svm_poly_all = train(Histology~., data = all, method = "svmPoly", trControl = ctrl, tuneLength=5)
  pred_svm_poly_all <- predict(model_svm_poly_all, test[,-1])
  perf_svm_poly_all <- confMat(pred_svm_poly_all, test$Histology, verbose = FALSE, positive = "Adenocarcinoma")$all
  
  
  ########## XGBoost
  model_xgboost_radiomics = train(Histology~., data = radiomics, method = "xgbTree", trControl = ctrl, tuneLength=5)
  pred_xgboost_radiomics <- predict(model_xgboost_radiomics, test[,-1])
  perf_xgboost_radiomics <- confMat(pred_xgboost_radiomics, test$Histology, verbose = FALSE, positive = "Adenocarcinoma")$all
  
  model_xgboost_genomics = train(Histology~., data = genomics, method = "xgbTree", trControl = ctrl, tuneLength=5)
  pred_xgboost_genomics <- predict(model_xgboost_genomics, test[,-1])
  perf_xgboost_genomics <- confMat(pred_xgboost_genomics, test$Histology, verbose = FALSE, positive = "Adenocarcinoma")$all
  
  model_xgboost_all = train(Histology~., data = all, method = "xgbTree", trControl = ctrl, tuneLength=5)
  pred_xgboost_all <- predict(model_xgboost_all, test[,-1])
  perf_xgboost_all <- confMat(pred_xgboost_all, test$Histology, verbose = FALSE, positive = "Adenocarcinoma")$all
  
  results <- cbind(perf_en_AUC_radiomics,  perf_en_AUC_genomics,  perf_en_AUC_all,  
                   perf_rf_AUC_radiomics,  perf_rf_AUC_genomics,  perf_rf_AUC_all,  
                   perf_svm_linear_AUC_radiomics,  perf_svm_linear_AUC_genomics,  perf_svm_linear_AUC_all,  
                   perf_svm_radial_AUC_radiomics,  perf_svm_radial_AUC_genomics,  perf_svm_radial_AUC_all,  
                   perf_svm_poly_AUC_radiomics,  perf_svm_poly_AUC_genomics,  perf_svm_poly_AUC_all,   
                   perf_xgboost_AUC_radiomics,  perf_xgboost_AUC_genomics,  perf_xgboost_AUC_all, 
                   perf_en_RFE_radiomics,  perf_en_RFE_genomics,  perf_en_RFE_all,  
                   perf_rf_RFE_radiomics,  perf_rf_RFE_genomics,  perf_rf_RFE_all,  
                   perf_svm_linear_RFE_radiomics,  perf_svm_linear_RFE_genomics,  perf_svm_linear_RFE_all,  
                   perf_svm_radial_RFE_radiomics,  perf_svm_radial_RFE_genomics,  perf_svm_radial_RFE_all,  
                   perf_svm_poly_RFE_radiomics,  perf_svm_poly_RFE_genomics,  perf_svm_poly_RFE_all,   
                   perf_xgboost_RFE_radiomics,  perf_xgboost_RFE_genomics,  perf_xgboost_RFE_all, 
                   perf_en_radiomics,  perf_en_genomics,  perf_en_all,  
                   perf_rf_radiomics,  perf_rf_genomics,  perf_rf_all,  
                   perf_svm_linear_radiomics,  perf_svm_linear_genomics,  perf_svm_linear_all,  
                   perf_svm_radial_radiomics,  perf_svm_radial_genomics,  perf_svm_radial_all,  
                   perf_svm_poly_radiomics,  perf_svm_poly_genomics,  perf_svm_poly_all,   
                   perf_xgboost_radiomics,  perf_xgboost_genomics,  perf_xgboost_all)

results <- as.data.frame(results)
colnames(results) <- c("EN_radiomics_AUC", "EN_genomics_AUC", "EN_all_AUC", 
                       "RF_radiomics_AUC", "RF_genomics_AUC", "RF_all_AUC", 
                       "SVM_linear_radiomics_AUC", "SVM_linear_genomics_AUC", "SVM_linear_all_AUC", 
                       "SVM_radial_radiomics_AUC", "SVM_radial_genomics_AUC", "SVM_radial_all_AUC",  
                       "SVM_poly_radiomics_AUC", "SVM_poly_genomics_AUC",  "SVM_poly_all_AUC", 
                       "Xgboost_radiomics_AUC", "Xgboost_genomics_AUC", "Xgboost_all_AUC",
                       "EN_radiomics_RFE", "EN_genomics_RFE", "EN_all_RFE", 
                       "RF_radiomics_RFE", "RF_genomics_RFE", "RF_all_RFE", 
                       "SVM_linear_radiomics_RFE", "SVM_linear_genomics_RFE", "SVM_linear_all_RFE", 
                       "SVM_radial_radiomics_RFE", "SVM_radial_genomics_RFE", "SVM_radial_all_RFE",  
                       "SVM_poly_radiomics_RFE", "SVM_poly_genomics_RFE",  "SVM_poly_all_RFE", 
                       "Xgboost_radiomics_RFE", "Xgboost_genomics_RFE", "Xgboost_all_RFE",
                       "EN_radiomics", "EN_genomics", "EN_all", 
                       "RF_radiomics", "RF_genomics", "RF_all", 
                       "SVM_linear_radiomics", "SVM_linear_genomics", "SVM_linear_all", 
                       "SVM_radial_radiomics", "SVM_radial_genomics", "SVM_radial_all",  
                       "SVM_poly_radiomics", "SVM_poly_genomics",  "SVM_poly_all", 
                       "Xgboost_radiomics", "Xgboost_genomics", "Xgboost_all")


  fname1 <- paste("data", i, "csv", sep = ".")
  fname1 <- file.path("~/", fname1)
  write.csv(sim_data, fname1, row.names = FALSE)
  
  fname2 <- paste("results", i, "csv", sep = ".")
  fname2 <- file.path("~/", fname2)
  write.csv(results, fname2, row.names = FALSE)
  
}  

end <- Sys.time()
end-start
   ]
  },
  
  {
   "cell_type": "code",
   "execution_count": 67,
   "id": "957f402e-d465-4f76-afd3-e1ab0d45807d",
   "metadata": {},
   "outputs": [
    {
     "data": {
      "text/html": [
       "<ol class=list-inline>\n",
       "\t<li>40</li>\n",
       "\t<li>2</li>\n",
       "</ol>\n"
      ],
      "text/latex": [
       "\\begin{enumerate*}\n",
       "\\item 40\n",
       "\\item 2\n",
       "\\end{enumerate*}\n"
      ],
      "text/markdown": [
       "1. 40\n",
       "2. 2\n",
       "\n",
       "\n"
      ],
      "text/plain": [
       "[1] 40  2"
      ]
     },
     "metadata": {},
     "output_type": "display_data"
    },
    {
     "data": {
      "text/html": [
       "<ol class=list-inline>\n",
       "\t<li>40</li>\n",
       "\t<li>208</li>\n",
       "</ol>\n"
      ],
      "text/latex": [
       "\\begin{enumerate*}\n",
       "\\item 40\n",
       "\\item 208\n",
       "\\end{enumerate*}\n"
      ],
      "text/markdown": [
       "1. 40\n",
       "2. 208\n",
       "\n",
       "\n"
      ],
      "text/plain": [
       "[1]  40 208"
      ]
     },
     "metadata": {},
     "output_type": "display_data"
    }
   ],
   "source": [
    "dim(radiomics_data_AUC_Histology[,-1])\n",
    "dim(genetic_data_AUC_histology[,-1])"
   ]
  },
  {
   "cell_type": "code",
   "execution_count": 77,
   "id": "0a3192b0-b5ad-48c4-ba68-7bc48a363d18",
   "metadata": {},
   "outputs": [
    {
     "data": {
      "text/html": [],
      "text/latex": [],
      "text/markdown": [],
      "text/plain": [
       "character(0)"
      ]
     },
     "metadata": {},
     "output_type": "display_data"
    },
    {
     "data": {
      "text/html": [
       "<ol class=list-inline>\n",
       "\t<li>'AAK1'</li>\n",
       "\t<li>'CELF1'</li>\n",
       "\t<li>'GTF3A'</li>\n",
       "\t<li>'SETD5'</li>\n",
       "\t<li>'ZCCHC2'</li>\n",
       "</ol>\n"
      ],
      "text/latex": [
       "\\begin{enumerate*}\n",
       "\\item 'AAK1'\n",
       "\\item 'CELF1'\n",
       "\\item 'GTF3A'\n",
       "\\item 'SETD5'\n",
       "\\item 'ZCCHC2'\n",
       "\\end{enumerate*}\n"
      ],
      "text/markdown": [
       "1. 'AAK1'\n",
       "2. 'CELF1'\n",
       "3. 'GTF3A'\n",
       "4. 'SETD5'\n",
       "5. 'ZCCHC2'\n",
       "\n",
       "\n"
      ],
      "text/plain": [
       "[1] \"AAK1\"   \"CELF1\"  \"GTF3A\"  \"SETD5\"  \"ZCCHC2\""
      ]
     },
     "metadata": {},
     "output_type": "display_data"
    },
    {
     "data": {
      "text/html": [],
      "text/latex": [],
      "text/markdown": [],
      "text/plain": [
       "character(0)"
      ]
     },
     "metadata": {},
     "output_type": "display_data"
    },
    {
     "data": {
      "text/html": [],
      "text/latex": [],
      "text/markdown": [],
      "text/plain": [
       "character(0)"
      ]
     },
     "metadata": {},
     "output_type": "display_data"
    },
    {
     "data": {
      "text/html": [],
      "text/latex": [],
      "text/markdown": [],
      "text/plain": [
       "character(0)"
      ]
     },
     "metadata": {},
     "output_type": "display_data"
    },
    {
     "data": {
      "text/html": [],
      "text/latex": [],
      "text/markdown": [],
      "text/plain": [
       "character(0)"
      ]
     },
     "metadata": {},
     "output_type": "display_data"
    },
    {
     "data": {
      "text/html": [],
      "text/latex": [],
      "text/markdown": [],
      "text/plain": [
       "character(0)"
      ]
     },
     "metadata": {},
     "output_type": "display_data"
    },
    {
     "data": {
      "text/html": [
       "<ol class=list-inline>\n",
       "\t<li>'GTF3A'</li>\n",
       "\t<li>'RPL26'</li>\n",
       "\t<li>'ZNF598'</li>\n",
       "</ol>\n"
      ],
      "text/latex": [
       "\\begin{enumerate*}\n",
       "\\item 'GTF3A'\n",
       "\\item 'RPL26'\n",
       "\\item 'ZNF598'\n",
       "\\end{enumerate*}\n"
      ],
      "text/markdown": [
       "1. 'GTF3A'\n",
       "2. 'RPL26'\n",
       "3. 'ZNF598'\n",
       "\n",
       "\n"
      ],
      "text/plain": [
       "[1] \"GTF3A\"  \"RPL26\"  \"ZNF598\""
      ]
     },
     "metadata": {},
     "output_type": "display_data"
    },
    {
     "data": {
      "text/html": [],
      "text/latex": [],
      "text/markdown": [],
      "text/plain": [
       "character(0)"
      ]
     },
     "metadata": {},
     "output_type": "display_data"
    },
    {
     "data": {
      "text/html": [
       "<ol class=list-inline>\n",
       "\t<li>'GTF3A'</li>\n",
       "\t<li>'KLHL20'</li>\n",
       "\t<li>'SKAP2'</li>\n",
       "\t<li>'ZCCHC2'</li>\n",
       "</ol>\n"
      ],
      "text/latex": [
       "\\begin{enumerate*}\n",
       "\\item 'GTF3A'\n",
       "\\item 'KLHL20'\n",
       "\\item 'SKAP2'\n",
       "\\item 'ZCCHC2'\n",
       "\\end{enumerate*}\n"
      ],
      "text/markdown": [
       "1. 'GTF3A'\n",
       "2. 'KLHL20'\n",
       "3. 'SKAP2'\n",
       "4. 'ZCCHC2'\n",
       "\n",
       "\n"
      ],
      "text/plain": [
       "[1] \"GTF3A\"  \"KLHL20\" \"SKAP2\"  \"ZCCHC2\""
      ]
     },
     "metadata": {},
     "output_type": "display_data"
    },
    {
     "data": {
      "text/html": [],
      "text/latex": [],
      "text/markdown": [],
      "text/plain": [
       "character(0)"
      ]
     },
     "metadata": {},
     "output_type": "display_data"
    },
    {
     "data": {
      "text/html": [
       "<ol class=list-inline>\n",
       "\t<li>'GTF3A'</li>\n",
       "\t<li>'SKAP2'</li>\n",
       "\t<li>'ZCCHC2'</li>\n",
       "</ol>\n"
      ],
      "text/latex": [
       "\\begin{enumerate*}\n",
       "\\item 'GTF3A'\n",
       "\\item 'SKAP2'\n",
       "\\item 'ZCCHC2'\n",
       "\\end{enumerate*}\n"
      ],
      "text/markdown": [
       "1. 'GTF3A'\n",
       "2. 'SKAP2'\n",
       "3. 'ZCCHC2'\n",
       "\n",
       "\n"
      ],
      "text/plain": [
       "[1] \"GTF3A\"  \"SKAP2\"  \"ZCCHC2\""
      ]
     },
     "metadata": {},
     "output_type": "display_data"
    },
    {
     "data": {
      "text/html": [],
      "text/latex": [],
      "text/markdown": [],
      "text/plain": [
       "character(0)"
      ]
     },
     "metadata": {},
     "output_type": "display_data"
    },
    {
     "data": {
      "text/html": [
       "<ol class=list-inline>\n",
       "\t<li>'GTF3A'</li>\n",
       "\t<li>'LRRC37B'</li>\n",
       "\t<li>'RPL26'</li>\n",
       "\t<li>'ZNF598'</li>\n",
       "</ol>\n"
      ],
      "text/latex": [
       "\\begin{enumerate*}\n",
       "\\item 'GTF3A'\n",
       "\\item 'LRRC37B'\n",
       "\\item 'RPL26'\n",
       "\\item 'ZNF598'\n",
       "\\end{enumerate*}\n"
      ],
      "text/markdown": [
       "1. 'GTF3A'\n",
       "2. 'LRRC37B'\n",
       "3. 'RPL26'\n",
       "4. 'ZNF598'\n",
       "\n",
       "\n"
      ],
      "text/plain": [
       "[1] \"GTF3A\"   \"LRRC37B\" \"RPL26\"   \"ZNF598\" "
      ]
     },
     "metadata": {},
     "output_type": "display_data"
    }
   ],
   "source": [
    "################ Boruta\n",
    "library(\"Boruta\")\n",
    "radiomics <- train[,1:33]\n",
    "genomics <- train[,c(1,34:5301)]\n",
    "\n",
    "######### 1. Boruta_getImpRfZ \n",
    "boruta.radiomics_result_boruta_getImpRfZ <- Boruta(Histology ~ ., data = radiomics, getImp = getImpRfZ)\n",
    "result.radiomics_result_boruta_getImpRfZ  <- boruta.radiomics_result_boruta_getImpRfZ $finalDecision\n",
    "final.radiomics_result_boruta_getImpRfZ  <- result.radiomics_result_boruta_getImpRfZ [result.radiomics_result_boruta_getImpRfZ  %in% c(\"Confirmed\")]\n",
    "names(final.radiomics_result_boruta_getImpRfZ)\n",
    "\n",
    "boruta.genomics_result_boruta_getImpRfZ <- Boruta(Histology ~ ., data = genomics, getImp = getImpRfZ)\n",
    "result.genomics_result_boruta_getImpRfZ  <- boruta.genomics_result_boruta_getImpRfZ $finalDecision\n",
    "final.genomics_result_boruta_getImpRfZ  <- result.genomics_result_boruta_getImpRfZ [result.genomics_result_boruta_getImpRfZ  %in% c(\"Confirmed\")]\n",
    "names(final.genomics_result_boruta_getImpRfZ)\n",
    "\n",
    "######### 2. Boruta_getImpFerns\n",
    "boruta.radiomics_result_boruta_getImpFerns<- Boruta(Histology ~ ., data = radiomics, getImp = getImpFerns)\n",
    "result.radiomics_result_boruta_getImpFerns <- boruta.radiomics_result_boruta_getImpFerns$finalDecision\n",
    "final.radiomics_result_boruta_getImpFerns <- result.radiomics_result_boruta_getImpFerns[result.radiomics_result_boruta_getImpFerns %in% c(\"Confirmed\")]\n",
    "names(final.radiomics_result_boruta_getImpFerns)\n",
    "\n",
    "boruta.genomics_result_boruta_getImpFerns<- Boruta(Histology ~ ., data = genomics, getImp = getImpFerns)\n",
    "result.genomics_result_boruta_getImpFerns <- boruta.genomics_result_boruta_getImpFerns$finalDecision\n",
    "final.genomics_result_boruta_getImpFerns <- result.genomics_result_boruta_getImpFerns[result.genomics_result_boruta_getImpFerns %in% c(\"Confirmed\")]\n",
    "names(final.genomics_result_boruta_getImpFerns)\n",
    "\n",
    "######### 3. Boruta_getImpXgboost\n",
    "boruta.radiomics_result_boruta_getImpXgboost<- Boruta(Histology ~ ., data = radiomics, getImp = getImpXgboost)\n",
    "result.radiomics_result_boruta_getImpXgboost <- boruta.radiomics_result_boruta_getImpXgboost$finalDecision\n",
    "final.radiomics_result_boruta_getImpXgboost <- result.radiomics_result_boruta_getImpXgboost[result.radiomics_result_boruta_getImpXgboost %in% c(\"Confirmed\")]\n",
    "names(final.radiomics_result_boruta_getImpXgboost)\n",
    "\n",
    "boruta.genomics_result_boruta_getImpXgboost<- Boruta(Histology ~ ., data = genomics, getImp = getImpXgboost)\n",
    "result.genomics_result_boruta_getImpXgboost <- boruta.genomics_result_boruta_getImpXgboost$finalDecision\n",
    "final.genomics_result_boruta_getImpXgboost <- result.genomics_result_boruta_getImpXgboost[result.genomics_result_boruta_getImpXgboost %in% c(\"Confirmed\")]\n",
    "names(final.genomics_result_boruta_getImpXgboost)\n",
    "\n",
    "######### 4. Boruta_getImpExtraZ\n",
    "boruta.radiomics_result_boruta_getImpExtraZ<- Boruta(Histology ~ ., data = radiomics, getImp = getImpExtraZ)\n",
    "result.radiomics_result_boruta_getImpExtraZ <- boruta.radiomics_result_boruta_getImpExtraZ$finalDecision\n",
    "final.radiomics_result_boruta_getImpExtraZ <- result.radiomics_result_boruta_getImpExtraZ[result.radiomics_result_boruta_getImpExtraZ %in% c(\"Confirmed\")]\n",
    "names(final.radiomics_result_boruta_getImpExtraZ)\n",
    "\n",
    "boruta.genomics_result_boruta_getImpExtraZ<- Boruta(Histology ~ ., data = genomics, getImp = getImpExtraZ)\n",
    "result.genomics_result_boruta_getImpExtraZ <- boruta.genomics_result_boruta_getImpExtraZ$finalDecision\n",
    "final.genomics_result_boruta_getImpExtraZ <- result.genomics_result_boruta_getImpExtraZ[result.genomics_result_boruta_getImpExtraZ %in% c(\"Confirmed\")]\n",
    "names(final.genomics_result_boruta_getImpExtraZ)\n",
    "\n",
    "######### 5. Boruta_getImpLegacyRfZ\n",
    "boruta.radiomics_getImpLegacyRfZ<- Boruta(Histology ~ ., data = radiomics, getImp = getImpLegacyRfZ)\n",
    "result.radiomics_getImpLegacyRfZ <- boruta.radiomics_getImpLegacyRfZ$finalDecision\n",
    "final.radiomics_getImpLegacyRfZ <- result.radiomics_getImpLegacyRfZ[result.radiomics_getImpLegacyRfZ %in% c(\"Confirmed\")]\n",
    "names(final.radiomics_getImpLegacyRfZ)\n",
    "\n",
    "boruta.genomics_getImpLegacyRfZ<- Boruta(Histology ~ ., data = genomics, getImp = getImpLegacyRfZ)\n",
    "result.genomics_getImpLegacyRfZ <- boruta.genomics_getImpLegacyRfZ$finalDecision\n",
    "final.genomics_getImpLegacyRfZ <- result.genomics_getImpLegacyRfZ[result.genomics_getImpLegacyRfZ %in% c(\"Confirmed\")]\n",
    "names(final.genomics_getImpLegacyRfZ)\n",
    "\n",
    "######### 6. Boruta_getImpExtraGini\n",
    "boruta.radiomics_getImpExtraGini<- Boruta(Histology ~ ., data = radiomics, getImp = getImpExtraGini)\n",
    "result.radiomics_getImpExtraGini <- boruta.radiomics_getImpExtraGini$finalDecision\n",
    "final.radiomics_getImpExtraGini <- result.radiomics_getImpExtraGini[result.radiomics_getImpExtraGini %in% c(\"Confirmed\")]\n",
    "names(final.radiomics_getImpExtraGini)\n",
    "\n",
    "boruta.genomics_getImpExtraGini<- Boruta(Histology ~ ., data = genomics, getImp = getImpExtraGini)\n",
    "result.genomics_getImpExtraGini <- boruta.genomics_getImpExtraGini$finalDecision\n",
    "final.genomics_getImpExtraGini <- result.genomics_getImpExtraGini[result.genomics_getImpExtraGini %in% c(\"Confirmed\")]\n",
    "names(final.genomics_getImpExtraGini)\n",
    "\n",
    "######### 7. Boruta_getImpExtraRaw\n",
    "boruta.radiomics_result_boruta_getImpExtraRaw<- Boruta(Histology ~ ., data = radiomics, getImp = getImpExtraRaw)\n",
    "result.radiomics_result_boruta_getImpExtraRaw <- boruta.radiomics_result_boruta_getImpExtraRaw$finalDecision\n",
    "final.radiomics_result_boruta_getImpExtraRaw <- result.radiomics_result_boruta_getImpExtraRaw[result.radiomics_result_boruta_getImpExtraRaw %in% c(\"Confirmed\")]\n",
    "names(final.radiomics_result_boruta_getImpExtraRaw)\n",
    "\n",
    "boruta.genomics_result_boruta_getImpExtraRaw<- Boruta(Histology ~ ., data = genomics, getImp = getImpExtraRaw)\n",
    "result.genomics_result_boruta_getImpExtraRaw <- boruta.genomics_result_boruta_getImpExtraRaw$finalDecision\n",
    "final.genomics_result_boruta_getImpExtraRaw <- result.genomics_result_boruta_getImpExtraRaw[result.genomics_result_boruta_getImpExtraRaw %in% c(\"Confirmed\")]\n",
    "names(final.genomics_result_boruta_getImpExtraRaw)\n",
    "\n",
    "\n"
   ]
  },
  {
   "cell_type": "code",
   "execution_count": 74,
   "id": "ddbbabc5-80da-4078-85da-63c42658cefb",
   "metadata": {},
   "outputs": [],
   "source": []
  },
  {
   "cell_type": "code",
   "execution_count": 76,
   "id": "b6ff51d9-2653-4060-94be-5160b2d4ca5b",
   "metadata": {},
   "outputs": [
    {
     "name": "stdout",
     "output_type": "stream",
     "text": [
      "\n",
      "  There is a binary version available but the source version is later:\n",
      "       binary source needs_compilation\n",
      "rFerns  4.0.0  5.0.0              TRUE\n",
      "\n",
      "  Binaries will be installed\n",
      "package 'rFerns' successfully unpacked and MD5 sums checked\n",
      "\n",
      "The downloaded binary packages are in\n",
      "\tC:\\Users\\Asus\\AppData\\Local\\Temp\\Rtmp0eTO3Y\\downloaded_packages\n"
     ]
    }
   ],
   "source": [
    "install.packages(\"rFerns\")"
   ]
  },
  {
   "cell_type": "code",
   "execution_count": 41,
   "id": "f196fcd2-e953-47d9-aad3-917e00b5ec40",
   "metadata": {},
   "outputs": [
    {
     "ename": "ERROR",
     "evalue": "Error in colttests(as.matrix(train[, 34:5301]), as.factor(train$Histology)): could not find function \"colttests\"\n",
     "output_type": "error",
     "traceback": [
      "Error in colttests(as.matrix(train[, 34:5301]), as.factor(train$Histology)): could not find function \"colttests\"\nTraceback:\n"
     ]
    }
   ],
   "source": [
    "################################################### Univariate analysis ###################################################\n",
    "###### Student's t-test\n",
    "\n",
    "ttest_results_g <- colttests(as.matrix(train[,34:5301]), as.factor(train$Histology))$p.value\n",
    "names_genomics <- names(train[,34:5301])\n",
    "genomics_new <- cbind(names_genomics, ttest_results_g)\n",
    "genomics_new <- as.data.frame(genomics_new)\n",
    "genomics_new$ttest_results_g <- as.numeric(genomics_new$ttest_results_g)\n",
    "genomics_new_new <- genomics_new[order(genomics_new$ttest_results_g, decreasing = FALSE),] \n",
    "genomics_new_new_new <- genomics_new_new[seq(1, 5, 1),]\n",
    "\n",
    "genomics_dataset <- train[,34:5301]\n",
    "genomics_data_t_test <- subset(genomics_dataset, select=genomics_new_new_new$names_genomics)\n",
    "genetic_data_t_test_histology <- cbind(train$Histology, genomics_data_t_test)\n",
    "names(genetic_data_t_test_histology)[1] <- \"Histology\"\n",
    "\n",
    "########### Corr. Filter\n",
    "#mtx_g = cor(genetic_data_AUC)\n",
    "#drop_g = findCorrelation(mtx_g, cutoff = .9)\n",
    "#drop_g = names(genetic_data_AUC)[drop_g]\n",
    "\n",
    "#genomics_data_AUC_2 <- subset(genetic_data_AUC, select = ! names(genetic_data_AUC) %in% drop_g)\n",
    "#genetic_data_AUC_histology <- cbind(train$Histology, genomics_data_AUC_2)\n",
    "#names(genetic_data_AUC_histology)[1] <- \"Histology\"\n",
    "\n",
    "\n",
    "radiomics_rfe<-radiomics_data_t_test_Histology\n",
    "genomics_rfe<-genetic_data_t_test_histology\n",
    "all_rfe <- cbind(radiomics_rfe, genomics_rfe[,-1])\n",
    "########## Elastic Net\n",
    "model_en_rfe_radiomics = train(Histology~., data = radiomics_rfe, method = \"glmnet\", trControl = ctrl, tuneLength = 5)\n",
    "pred_en_rfe_radiomics <- predict(model_en_rfe_radiomics, test[,-1])\n",
    "perf_en_rfe_radiomics <- confMat(pred_en_rfe_radiomics, test$Histology, verbose = FALSE)$all\n",
    "\n",
    "model_en_rfe_genomics = train(Histology~., data = genomics_rfe, method = \"glmnet\", trControl = ctrl, tuneLength = 5)\n",
    "pred_en_rfe_genomics <- predict(model_en_rfe_genomics, test[,-1])\n",
    "perf_en_rfe_genomics <- confMat(pred_en_rfe_genomics, test$Histology, verbose = FALSE)$all\n",
    "\n",
    "model_en_rfe_all = train(Histology~., data = all_rfe, method = \"glmnet\", trControl = ctrl, tuneLength = 5)\n",
    "pred_en_rfe_all <- predict(model_en_rfe_all, test[,-1])\n",
    "perf_en_rfe_all <- confMat(pred_en_rfe_all, test$Histology, verbose = FALSE)$all\n",
    "\n",
    "\n",
    "########## Random Forest\n",
    "model_rf_rfe_radiomics = train(Histology~., data = radiomics_rfe, method = \"rf\", trControl = ctrl, tuneLength = 5)\n",
    "pred_rf_rfe_radiomics <- predict(model_rf_rfe_radiomics, test[,-1])\n",
    "perf_rf_rfe_radiomics <- confMat(pred_rf_rfe_radiomics, test$Histology, verbose = FALSE)$all\n",
    "\n",
    "model_rf_rfe_genomics = train(Histology~., data = genomics_rfe, method = \"rf\", trControl = ctrl, tuneLength = 5)\n",
    "pred_rf_rfe_genomics <- predict(model_rf_rfe_genomics, test[,-1])\n",
    "perf_rf_rfe_genomics <- confMat(pred_rf_rfe_genomics, test$Histology, verbose = FALSE)$all\n",
    "\n",
    "model_rf_rfe_all = train(Histology~., data = all_rfe, method = \"rf\", trControl = ctrl, tuneLength = 5)\n",
    "pred_rf_rfe_all <- predict(model_rf_rfe_all, test[,-1])\n",
    "perf_rf_rfe_all <- confMat(pred_rf_rfe_all, test$Histology, verbose = FALSE)$all\n",
    "\n",
    "\n",
    "########## Support Vector Machines - Linear\n",
    "model_svm_linear_rfe_radiomics = train(Histology~., data = radiomics_rfe, method = \"svmLinear\", trControl = ctrl, tuneLength = 5)\n",
    "pred_svm_linear_rfe_radiomics <- predict(model_svm_linear_rfe_radiomics, test[,-1])\n",
    "perf_svm_linear_rfe_radiomics <- confMat(pred_svm_linear_rfe_radiomics, test$Histology, verbose = FALSE)$all\n",
    "\n",
    "model_svm_linear_rfe_genomics = train(Histology~., data = genomics_rfe, method = \"svmLinear\", trControl = ctrl, tuneLength = 5)\n",
    "pred_svm_linear_rfe_genomics <- predict(model_svm_linear_rfe_genomics, test[,-1])\n",
    "perf_svm_linear_rfe_genomics <- confMat(pred_svm_linear_rfe_genomics, test$Histology, verbose = FALSE)$all\n",
    "\n",
    "model_svm_linear_rfe_all = train(Histology~., data = all_rfe, method = \"svmLinear\", trControl = ctrl, tuneLength = 5)\n",
    "pred_svm_linear_rfe_all <- predict(model_svm_linear_rfe_all, test[,-1])\n",
    "perf_svm_linear_rfe_all <- confMat(pred_svm_linear_rfe_all, test$Histology, verbose = FALSE)$all\n",
    "\n",
    "\n",
    "########## Support Vector Machines - Radial\n",
    "model_svm_radial_rfe_radiomics = train(Histology~., data = radiomics_rfe, method = \"svmRadial\", trControl = ctrl, tuneLength = 5)\n",
    "pred_svm_radial_rfe_radiomics <- predict(model_svm_radial_rfe_radiomics, test[,-1])\n",
    "perf_svm_radial_rfe_radiomics <- confMat(pred_svm_radial_rfe_radiomics, test$Histology, verbose = FALSE)$all\n",
    "\n",
    "model_svm_radial_rfe_genomics = train(Histology~., data = genomics_rfe, method = \"svmRadial\", trControl = ctrl, tuneLength = 5)\n",
    "pred_svm_radial_rfe_genomics <- predict(model_svm_radial_rfe_genomics, test[,-1])\n",
    "perf_svm_radial_rfe_genomics <- confMat(pred_svm_radial_rfe_genomics, test$Histology, verbose = FALSE)$all\n",
    "\n",
    "model_svm_radial_rfe_all = train(Histology~., data = all_rfe, method = \"svmRadial\", trControl = ctrl, tuneLength = 5)\n",
    "pred_svm_radial_rfe_all <- predict(model_svm_radial_rfe_all, test[,-1])\n",
    "perf_svm_radial_rfe_all <- confMat(pred_svm_radial_rfe_all, test$Histology, verbose = FALSE)$all\n",
    "\n",
    "\n",
    "\n",
    "########## Support Vector Machines - Polynomial\n",
    "model_svm_poly_rfe_radiomics = train(Histology~., data = radiomics_rfe, method = \"svmPoly\", trControl = ctrl, tuneLength = 5)\n",
    "pred_svm_poly_rfe_radiomics <- predict(model_svm_poly_rfe_radiomics, test[,-1])\n",
    "perf_svm_poly_rfe_radiomics <- confMat(pred_svm_poly_rfe_radiomics, test$Histology, verbose = FALSE)$all\n",
    "\n",
    "model_svm_poly_rfe_genomics = train(Histology~., data = genomics_rfe, method = \"svmPoly\", trControl = ctrl, tuneLength = 5)\n",
    "pred_svm_poly_rfe_genomics <- predict(model_svm_poly_rfe_genomics, test[,-1])\n",
    "perf_svm_poly_rfe_genomics <- confMat(pred_svm_poly_rfe_genomics, test$Histology, verbose = FALSE)$all\n",
    "\n",
    "model_svm_poly_rfe_all = train(Histology~., data = all_rfe, method = \"svmPoly\", trControl = ctrl, tuneLength = 5)\n",
    "pred_svm_poly_rfe_all <- predict(model_svm_poly_rfe_all, test[,-1])\n",
    "perf_svm_poly_rfe_all <- confMat(pred_svm_poly_rfe_all, test$Histology, verbose = FALSE)$all\n",
    "\n",
    "\n",
    "\n",
    "\n",
    "########## Artificial Neural Networks\n",
    "model_ann_rfe_radiomics = train(Histology~., data = radiomics_rfe, method = \"nnet\", trControl = ctrl, trace = FALSE, tuneLength = 5)\n",
    "pred_ann_rfe_radiomics <- predict(model_ann_rfe_radiomics, test[,-1])\n",
    "perf_ann_rfe_radiomics <- confMat(pred_ann_rfe_radiomics, test$Histology, verbose = FALSE)$all\n",
    "\n",
    "model_ann_rfe_genomics = train(Histology~., data = genomics_rfe, method = \"nnet\", trControl = ctrl, trace = FALSE, tuneLength = 5)\n",
    "pred_ann_rfe_genomics <- predict(model_ann_rfe_genomics, test[,-1])\n",
    "perf_ann_rfe_genomics <- confMat(pred_ann_rfe_genomics, test$Histology, verbose = FALSE)$all\n",
    "\n",
    "model_ann_rfe_all = train(Histology~., data = all_rfe, method = \"nnet\", trControl = ctrl, trace = FALSE, tuneLength = 5)\n",
    "pred_ann_rfe_all <- predict(model_ann_rfe_all, test[,-1])\n",
    "perf_ann_rfe_all <- confMat(pred_ann_rfe_all, test$Histology, verbose = FALSE)$all\n",
    "\n",
    "\n",
    "\n",
    "########## XGBoost\n",
    "model_xgboost_rfe_radiomics = train(Histology~., data = radiomics_rfe, method = \"xgbTree\", trControl = ctrl, tuneLength = 5)\n",
    "pred_xgboost_rfe_radiomics <- predict(model_xgboost_rfe_radiomics, test[,-1])\n",
    "perf_xgboost_rfe_radiomics <- confMat(pred_xgboost_rfe_radiomics, test$Histology, verbose = FALSE)$all\n",
    "\n",
    "model_xgboost_rfe_genomics = train(Histology~., data = genomics_rfe, method = \"xgbTree\", trControl = ctrl, tuneLength = 5)\n",
    "pred_xgboost_rfe_genomics <- predict(model_xgboost_rfe_genomics, test[,-1])\n",
    "perf_xgboost_rfe_genomics <- confMat(pred_xgboost_rfe_genomics, test$Histology, verbose = FALSE)$all\n",
    "\n",
    "model_xgboost_rfe_all = train(Histology~., data = all_rfe, method = \"xgbTree\", trControl = ctrl, tuneLength = 5)\n",
    "pred_xgboost_rfe_all <- predict(model_xgboost_rfe_all, test[,-1])\n",
    "perf_xgboost_rfe_all <- confMat(pred_xgboost_rfe_all, test$Histology, verbose = FALSE)$all\n",
    "\n",
    "\n",
    "\n",
    "\n",
    "results <- cbind(perf_en_rfe_radiomics, perf_en_rfe_genomics, perf_en_rfe_all, \n",
    "                 perf_rf_rfe_radiomics, perf_rf_rfe_genomics, perf_rf_rfe_all, \n",
    "                 perf_svm_linear_rfe_radiomics, perf_svm_linear_rfe_genomics, perf_svm_linear_rfe_all, \n",
    "                 perf_svm_radial_rfe_radiomics, perf_svm_radial_rfe_genomics, perf_svm_radial_rfe_all, \n",
    "                 perf_svm_poly_rfe_radiomics, perf_svm_poly_rfe_genomics, perf_svm_poly_rfe_all, \n",
    "                 perf_ann_rfe_radiomics, perf_ann_rfe_genomics, perf_ann_rfe_all, \n",
    "                 perf_xgboost_rfe_radiomics, perf_xgboost_rfe_genomics, perf_xgboost_rfe_all)\n",
    "\n",
    "\n",
    "colnames(results) <- c(\"Elastic  net radiomics\", \"Elastic  net genomics\", \"Elastic net all\", \n",
    "                       \"Random forest radiomics\", \"Random forest genomics\", \"Random forest all\", \n",
    "                       \"SVM-linear radiomics\", \"SVM-linear genomics\", \"SVM-linear all\", \n",
    "                       \"SVM-radial radiomics\", \"SVM-radial genomics\", \"SVM-radial all\",  \n",
    "                       \"SVM-poly radiomics\", \"SVM-poly genomics\",  \"SVM-poly all\", \n",
    "                       \"ANN radiomics\", \"ANN genomics\", \"ANN all\", \n",
    "                       \"Xgboost radiomics\", \"Xgboost genomics\", \"Xgboost all\")\n",
    "\n",
    "write.csv(results, \"Result_Scenario9_set.seed_123_t_test_p_5.csv\")\n",
    "View(results)\n",
    "\n",
    "end <- Sys.time()\n",
    "end-start\n",
    "\n"
   ]
  },
  {
   "cell_type": "code",
   "execution_count": 38,
   "id": "3ca0d658-0981-4b0d-b3cd-27b5f2eb4d59",
   "metadata": {},
   "outputs": [
    {
     "data": {
      "text/plain": [
       "Time difference of 48.66725 mins"
      ]
     },
     "metadata": {},
     "output_type": "display_data"
    }
   ],
   "source": [
    "end <- Sys.time()\n",
    "end-start"
   ]
  }
 ],
 "metadata": {
  "kernelspec": {
   "display_name": "R",
   "language": "R",
   "name": "ir"
  },
  "language_info": {
   "codemirror_mode": "r",
   "file_extension": ".r",
   "mimetype": "text/x-r-source",
   "name": "R",
   "pygments_lexer": "r",
   "version": "3.6.1"
  }
 },
 "nbformat": 4,
 "nbformat_minor": 5
}
