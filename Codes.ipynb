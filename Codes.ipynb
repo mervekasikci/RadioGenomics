{
 "cells": [
  {
   "cell_type": "code",
   "execution_count": 1,
   "id": "3fa2f040-1981-4844-8b41-bd4e55e20ee9",
   "metadata": {},
   "outputs": [
    {
     "name": "stderr",
     "output_type": "stream",
     "text": [
      "Loading required package: lattice\n",
      "Loading required package: ggplot2\n",
      "Registered S3 methods overwritten by 'ggplot2':\n",
      "  method         from \n",
      "  [.quosures     rlang\n",
      "  c.quosures     rlang\n",
      "  print.quosures rlang\n"
     ]
    }
   ],
   "source": [
    "library(\"caret\")\n",
    "library(\"caTools\")"
   ]
  },
  {
   "cell_type": "code",
   "execution_count": 2,
   "id": "39503b55-d41c-4184-9093-ef84ca511e08",
   "metadata": {},
   "outputs": [],
   "source": [
    "set.seed(123)\n",
    "start <- Sys.time()"
   ]
  },
  {
   "cell_type": "code",
   "execution_count": 3,
   "id": "fd6fe669-b17e-4758-9f3a-eccda10011d3",
   "metadata": {},
   "outputs": [
    {
     "data": {
      "text/html": [
       "<ol class=list-inline>\n",
       "\t<li>211</li>\n",
       "\t<li>39</li>\n",
       "</ol>\n"
      ],
      "text/latex": [
       "\\begin{enumerate*}\n",
       "\\item 211\n",
       "\\item 39\n",
       "\\end{enumerate*}\n"
      ],
      "text/markdown": [
       "1. 211\n",
       "2. 39\n",
       "\n",
       "\n"
      ],
      "text/plain": [
       "[1] 211  39"
      ]
     },
     "metadata": {},
     "output_type": "display_data"
    }
   ],
   "source": [
    "######### Clinical data\n",
    "clinical_data <- read.delim(\"D:/Ders/dicom/NSCLCR01_Clinical_data.txt\")\n",
    "row.names(clinical_data) <- clinical_data[,1]\n",
    "clinical_data <- clinical_data[,-1]\n",
    "dim(clinical_data)"
   ]
  },
  {
   "cell_type": "code",
   "execution_count": 4,
   "id": "b5436e9f-4861-4be7-9e56-eb321943f2d1",
   "metadata": {},
   "outputs": [
    {
     "data": {
      "text/html": [
       "<ol class=list-inline>\n",
       "\t<li>87</li>\n",
       "\t<li>32</li>\n",
       "</ol>\n"
      ],
      "text/latex": [
       "\\begin{enumerate*}\n",
       "\\item 87\n",
       "\\item 32\n",
       "\\end{enumerate*}\n"
      ],
      "text/markdown": [
       "1. 87\n",
       "2. 32\n",
       "\n",
       "\n"
      ],
      "text/plain": [
       "[1] 87 32"
      ]
     },
     "metadata": {},
     "output_type": "display_data"
    }
   ],
   "source": [
    "######### Radiomics data\n",
    "radiomics_features <- read.delim(\"D:/Ders/dicom/radiomics_features.txt\")\n",
    "row.names(radiomics_features) <- radiomics_features[,1]\n",
    "radiomics_features <- radiomics_features[,-1]\n",
    "dim(radiomics_features)"
   ]
  },
  {
   "cell_type": "code",
   "execution_count": 5,
   "id": "b6219ea7-54eb-4775-a663-6dbc8764d18d",
   "metadata": {},
   "outputs": [
    {
     "data": {
      "text/html": [
       "<ol class=list-inline>\n",
       "\t<li>130</li>\n",
       "\t<li>22126</li>\n",
       "</ol>\n"
      ],
      "text/latex": [
       "\\begin{enumerate*}\n",
       "\\item 130\n",
       "\\item 22126\n",
       "\\end{enumerate*}\n"
      ],
      "text/markdown": [
       "1. 130\n",
       "2. 22126\n",
       "\n",
       "\n"
      ],
      "text/plain": [
       "[1]   130 22126"
      ]
     },
     "metadata": {},
     "output_type": "display_data"
    }
   ],
   "source": [
    "######### Genetic data\n",
    "genetic_data_first <- read.delim(\"D:/Ders/dicom/GSE103584_R01_NSCLC_RNAseq.txt\")\n",
    "genetic_data <- t(genetic_data_first)\n",
    "genetic_data <- as.data.frame(genetic_data)\n",
    "colnames(genetic_data) <- genetic_data_first[,1]\n",
    "genetic_data <- genetic_data[-1,]\n",
    "dim(genetic_data)"
   ]
  },
  {
   "cell_type": "code",
   "execution_count": 11,
   "id": "39e4c95b-f262-4451-9dcc-909a33cb7b2d",
   "metadata": {},
   "outputs": [
    {
     "data": {
      "text/html": [
       "<ol class=list-inline>\n",
       "\t<li>130</li>\n",
       "\t<li>5268</li>\n",
       "</ol>\n"
      ],
      "text/latex": [
       "\\begin{enumerate*}\n",
       "\\item 130\n",
       "\\item 5268\n",
       "\\end{enumerate*}\n"
      ],
      "text/markdown": [
       "1. 130\n",
       "2. 5268\n",
       "\n",
       "\n"
      ],
      "text/plain": [
       "[1]  130 5268"
      ]
     },
     "metadata": {},
     "output_type": "display_data"
    }
   ],
   "source": [
    "######### Removing columns containing NA in genetic data\n",
    "na_genes <- NULL\n",
    "for(i in 1:dim(genetic_data)[2])\n",
    "{\n",
    "  if(sum(is.na(genetic_data[,i]))>0){\n",
    "    na_genes <- c(na_genes, names(genetic_data)[i])\n",
    "  }\n",
    "}\n",
    "\n",
    "genetic_data_filtered <- subset(genetic_data, select = ! names(genetic_data) %in% na_genes)\n",
    "dim(genetic_data_filtered)\n",
    "\n",
    "row.names(genetic_data_filtered) <- gsub('R01.', 'R01-', row.names(genetic_data_filtered))\n",
    "genetic_data_filtered <- as.data.frame(genetic_data_filtered)\n",
    "genetic_data_filtered <- as.matrix(genetic_data_filtered)\n",
    "storage.mode(genetic_data_filtered) <- \"double\""
   ]
  },
  {
   "cell_type": "code",
   "execution_count": 12,
   "id": "7aec912f-b6d2-4da7-802e-c07d5a97bee5",
   "metadata": {},
   "outputs": [
    {
     "data": {
      "text/html": [
       "<ol class=list-inline>\n",
       "\t<li>58</li>\n",
       "\t<li>5301</li>\n",
       "</ol>\n"
      ],
      "text/latex": [
       "\\begin{enumerate*}\n",
       "\\item 58\n",
       "\\item 5301\n",
       "\\end{enumerate*}\n"
      ],
      "text/markdown": [
       "1. 58\n",
       "2. 5301\n",
       "\n",
       "\n"
      ],
      "text/plain": [
       "[1]   58 5301"
      ]
     },
     "metadata": {},
     "output_type": "display_data"
    }
   ],
   "source": [
    "######### Selecting common samples for all data sets\n",
    "common_samples <- intersect(row.names(radiomics_features), row.names(genetic_data_filtered))\n",
    "radiomics_features_common <- radiomics_features[rownames(radiomics_features) %in% common_samples, ]  # Extract rows from data\n",
    "genetic_data_common <- genetic_data_filtered[rownames(genetic_data_filtered) %in% common_samples, ]\n",
    "clinical_data_common <- clinical_data[rownames(clinical_data) %in% common_samples, ]\n",
    "\n",
    "nsclc_nos <- row.names(clinical_data_common[clinical_data_common$Histology==\"NSCLC NOS (not otherwise specified)\",])\n",
    "radiomics_features_last <- radiomics_features_common[!rownames(radiomics_features_common) %in% nsclc_nos, ] \n",
    "genetic_data_last <- genetic_data_common[!rownames(genetic_data_common) %in% nsclc_nos, ] \n",
    "clinical_data_last <- clinical_data_common[!rownames(clinical_data_common) %in% nsclc_nos, ] \n",
    "\n",
    "data <- cbind(clinical_data_last$Histology, radiomics_features_last, genetic_data_last)\n",
    "colnames(data)[1] <- \"Histology\"\n",
    "dim(data)"
   ]
  },
  {
   "cell_type": "code",
   "execution_count": 15,
   "id": "e44003bf-c4d0-4263-8151-a186550a52ec",
   "metadata": {},
   "outputs": [],
   "source": [
    "######### Data split\n",
    "index=sample.split(data$Histology,SplitRatio=0.7)\n",
    "train=data[index,]\n",
    "test=data[!index,]"
   ]
  },
  {
   "cell_type": "code",
   "execution_count": 17,
   "id": "51937716-376f-4a29-b72e-0787cc4cd586",
   "metadata": {},
   "outputs": [
    {
     "data": {
      "text/html": [
       "<dl class=dl-horizontal>\n",
       "\t<dt>Adenocarcinoma</dt>\n",
       "\t\t<dd>29</dd>\n",
       "\t<dt>Squamous_cell_carcinoma</dt>\n",
       "\t\t<dd>11</dd>\n",
       "</dl>\n"
      ],
      "text/latex": [
       "\\begin{description*}\n",
       "\\item[Adenocarcinoma] 29\n",
       "\\item[Squamous\\textbackslash{}\\_cell\\textbackslash{}\\_carcinoma] 11\n",
       "\\end{description*}\n"
      ],
      "text/markdown": [
       "Adenocarcinoma\n",
       ":   29Squamous_cell_carcinoma\n",
       ":   11\n",
       "\n"
      ],
      "text/plain": [
       "         Adenocarcinoma Squamous_cell_carcinoma \n",
       "                     29                      11 "
      ]
     },
     "metadata": {},
     "output_type": "display_data"
    },
    {
     "data": {
      "text/html": [
       "'factor'"
      ],
      "text/latex": [
       "'factor'"
      ],
      "text/markdown": [
       "'factor'"
      ],
      "text/plain": [
       "[1] \"factor\""
      ]
     },
     "metadata": {},
     "output_type": "display_data"
    },
    {
     "data": {
      "text/html": [
       "<ol class=list-inline>\n",
       "\t<li>'Adenocarcinoma'</li>\n",
       "\t<li>'Squamous_cell_carcinoma'</li>\n",
       "</ol>\n"
      ],
      "text/latex": [
       "\\begin{enumerate*}\n",
       "\\item 'Adenocarcinoma'\n",
       "\\item 'Squamous\\_cell\\_carcinoma'\n",
       "\\end{enumerate*}\n"
      ],
      "text/markdown": [
       "1. 'Adenocarcinoma'\n",
       "2. 'Squamous_cell_carcinoma'\n",
       "\n",
       "\n"
      ],
      "text/plain": [
       "[1] \"Adenocarcinoma\"          \"Squamous_cell_carcinoma\""
      ]
     },
     "metadata": {},
     "output_type": "display_data"
    },
    {
     "data": {
      "text/html": [
       "<dl class=dl-horizontal>\n",
       "\t<dt>Adenocarcinoma</dt>\n",
       "\t\t<dd>13</dd>\n",
       "\t<dt>Squamous_cell_carcinoma</dt>\n",
       "\t\t<dd>5</dd>\n",
       "</dl>\n"
      ],
      "text/latex": [
       "\\begin{description*}\n",
       "\\item[Adenocarcinoma] 13\n",
       "\\item[Squamous\\textbackslash{}\\_cell\\textbackslash{}\\_carcinoma] 5\n",
       "\\end{description*}\n"
      ],
      "text/markdown": [
       "Adenocarcinoma\n",
       ":   13Squamous_cell_carcinoma\n",
       ":   5\n",
       "\n"
      ],
      "text/plain": [
       "         Adenocarcinoma Squamous_cell_carcinoma \n",
       "                     13                       5 "
      ]
     },
     "metadata": {},
     "output_type": "display_data"
    },
    {
     "data": {
      "text/html": [
       "'factor'"
      ],
      "text/latex": [
       "'factor'"
      ],
      "text/markdown": [
       "'factor'"
      ],
      "text/plain": [
       "[1] \"factor\""
      ]
     },
     "metadata": {},
     "output_type": "display_data"
    },
    {
     "data": {
      "text/html": [
       "<ol class=list-inline>\n",
       "\t<li>'Adenocarcinoma'</li>\n",
       "\t<li>'Squamous_cell_carcinoma'</li>\n",
       "</ol>\n"
      ],
      "text/latex": [
       "\\begin{enumerate*}\n",
       "\\item 'Adenocarcinoma'\n",
       "\\item 'Squamous\\_cell\\_carcinoma'\n",
       "\\end{enumerate*}\n"
      ],
      "text/markdown": [
       "1. 'Adenocarcinoma'\n",
       "2. 'Squamous_cell_carcinoma'\n",
       "\n",
       "\n"
      ],
      "text/plain": [
       "[1] \"Adenocarcinoma\"          \"Squamous_cell_carcinoma\""
      ]
     },
     "metadata": {},
     "output_type": "display_data"
    }
   ],
   "source": [
    "######### Cross-validation\n",
    "ctrl = trainControl(method=\"cv\", number=5, returnResamp = \"final\", summaryFunction = prSummary, classProbs = TRUE,\n",
    "                    savePredictions = T, verbose=F)\n",
    "\n",
    "train$Histology <- as.factor(train$Histology)\n",
    "train$Histology <- droplevels(train$Histology)\n",
    "summary(train$Histology)\n",
    "class(train$Histology)\n",
    "levels(train$Histology) <- gsub(\" \", \"_\", levels(train$Histology))\n",
    "levels(train$Histology)\n",
    "\n",
    "\n",
    "test$Histology <- as.factor(test$Histology)\n",
    "test$Histology <- droplevels(test$Histology)\n",
    "summary(test$Histology)\n",
    "class(test$Histology)\n",
    "levels(test$Histology) <- gsub(\" \", \"_\", levels(test$Histology))\n",
    "levels(test$Histology)\n"
   ]
  },
  {
   "cell_type": "code",
   "execution_count": 1,
   "id": "4cb8910f-6e3e-4faa-920e-aff9feb38f8d",
   "metadata": {},
   "outputs": [],
   "source": [
    "confMat<- function(data, ...) UseMethod(\"confMat\")\n",
    "\n",
    "confMat.default<-function(data, reference, positive = NULL, verbose = TRUE, ...) {\n",
    "\n",
    "  if(!is.factor(data)) data <- factor(data)\n",
    "  if(!is.factor(reference)) reference <- factor(reference)\n",
    "  \n",
    "  \n",
    "  if(length(levels(reference))!=2)\n",
    "    stop(\"The reference must have 2 factor levels.\")\n",
    "  \n",
    "  if(any(levels(reference) != levels(data))) {\n",
    "    warning(\"Levels are not in the same order for reference and data. Refactoring data to match.\")\n",
    "    data <- as.character(data)\n",
    "    data <- factor(data, levels = levels(reference))\n",
    "  }\n",
    "  \n",
    "  store <- table(data,reference)\n",
    "  \n",
    "  if (!is.null(positive)){\n",
    "  if (which(colnames(store)==positive)==2) {\n",
    "\n",
    "temp <- store[1,]\n",
    "store[1,] <- store [2,]\n",
    "store[2,] <- temp\n",
    "temp <- store[,1]\n",
    "store[,1] <- store[,2]\n",
    "store[,2] <- temp\n",
    "temp <- colnames(store)[1]\n",
    "colnames(store)[1] <- colnames(store)[2]\n",
    "colnames(store)[2] <- temp\n",
    "rownames(store) <- colnames(store)\n",
    "\n",
    "  }}else{positive <- colnames(store)[1]}\n",
    "    \n",
    "  \n",
    "  accuracy <- sum(diag(store))/sum(store)\n",
    "  \n",
    "  pc <- sum(diag(rowSums(store) %*% t(colSums(store))))/(sum(store)^2)\n",
    "  \n",
    "  kappa <- (accuracy-pc)/(1-pc) \n",
    "  \n",
    "  \n",
    "  denom <-colSums(store)[1]*colSums(store)[2]*rowSums(store)[1]*rowSums(store)[2]\n",
    "\n",
    "  MCC <- (store[1,1]*store[2,2]-store[1,2]*store[2,1])/sqrt(denom)\n",
    "\n",
    "  ccr <- diag(store)/colSums(store)\n",
    "  \n",
    "  sensitivity <- ccr[1]\n",
    "  specificity <- ccr[2]\n",
    "  \n",
    "  pv <- diag(store)/rowSums(store)\n",
    "  prevalences <- colSums(store)/sum(store)\n",
    "  NIR <- max(prevalences)\n",
    "  prevalence <- prevalences[1]\n",
    "  PPV <- pv[1]\n",
    "  NPV <- pv[2]\n",
    "  baccuracy <- (sensitivity+specificity)/2\n",
    "  youden <- sensitivity+specificity-1\n",
    "  detectRate <- store[1,1]/sum(store)\n",
    "  detectPrevalence <- rowSums(store)[1]/sum(store)\n",
    "  precision <- PPV\n",
    "  recall <- sensitivity\n",
    "  F1 <- 2/(1/recall+1/precision)\n",
    "    \n",
    "  if (verbose) {\n",
    "    cat(\"\\n\")\n",
    "    cat(\"Confusion Matrix and Statistics\", \"\\n\\n\", sep = \" \")\n",
    "    print(store)\n",
    "    cat(\"\\n\")\n",
    "    cat(\"\\n\", \"    Accuracy             :  \", round(accuracy,4), sep = \" \")\n",
    "    cat(\"\\n\", \"    No Information Rate  :  \", round(NIR,4), sep = \" \")\n",
    "    cat(\"\\n\", \"    Kappa                :  \", round(kappa,4), sep = \" \")\n",
    "    cat(\"\\n\", \"    Matthews Corr Coef   :  \", round(MCC,4), sep = \" \")\n",
    "    cat(\"\\n\", \"    Sensitivity          :  \", round(sensitivity,4), sep = \" \")\n",
    "    cat(\"\\n\", \"    Specificity          :  \", round(specificity,4), sep = \" \")\n",
    "    cat(\"\\n\", \"    Positive Pred Value  :  \", round(PPV,4), sep = \" \")\n",
    "    cat(\"\\n\", \"    Negative Pred Value  :  \", round(NPV,4), sep = \" \")\n",
    "    cat(\"\\n\", \"    Prevalence           :  \", round(prevalence,4), sep = \" \")\n",
    "    cat(\"\\n\", \"    Balanced Accuracy    :  \", round(baccuracy,4), sep = \" \")\n",
    "    cat(\"\\n\", \"    Youden Index         :  \", round(youden,4), sep = \" \")\n",
    "    cat(\"\\n\", \"    Detection Rate       :  \", round(detectRate,4), sep = \" \")\n",
    "    cat(\"\\n\", \"    Detection Prevalence :  \", round(detectPrevalence,4), sep = \" \")\n",
    "    cat(\"\\n\", \"    Precision            :  \", round(precision,4), sep = \" \")\n",
    "    cat(\"\\n\", \"    Recall               :  \", round(recall,4), sep = \" \")\n",
    "    cat(\"\\n\", \"    F1                   :  \", round(F1,4), \"\\n\", sep = \" \")\n",
    "    cat(\"\\n\", \"    Positive Class       :  \", positive, \"\\n\", sep = \" \")\n",
    "    cat(\"\\n\")\n",
    "  }   \n",
    "  \n",
    "  all<-rbind(as.numeric(accuracy),as.numeric(NIR),as.numeric(kappa),as.numeric(MCC),as.numeric(sensitivity),as.numeric(specificity),as.numeric(PPV),as.numeric(NPV),as.numeric(prevalence),as.numeric(baccuracy),as.numeric(youden),as.numeric(detectRate),as.numeric(detectPrevalence),as.numeric(precision),as.numeric(recall),as.numeric(F1))\n",
    "\n",
    "  rownames(all)<-c(\"accuracy\",\"NIR\",\"kappa\",\"MCC\",\"sensitivity\",\"specificity\",\"PPV\",\"NPV\",\"prevalence\",\"baccuracy\",\"youden\",\"detectRate\",\"detectPrev\",\"precision\",\"recall\",\"F1\")\n",
    "colnames(all)<-\"\"\n",
    " \n",
    "  result <- list()\n",
    "  result$table <- store\n",
    "  result$accuracy <- as.numeric(accuracy)\n",
    "  result$NIR <- as.numeric(NIR)\n",
    "  result$kappa <- as.numeric(kappa)\n",
    "  result$MCC <- as.numeric(MCC)\n",
    "  result$sensitivity <- as.numeric(sensitivity)\n",
    "  result$specificity <- as.numeric(specificity)\n",
    "  result$PPV <- as.numeric(PPV)\n",
    "  result$NPV <- as.numeric(NPV)\n",
    "  result$prevalence <- as.numeric(prevalence)\n",
    "  result$baccuracy <- as.numeric(baccuracy)\n",
    "  result$youden <- as.numeric(youden)\n",
    "  result$detectRate <- as.numeric(detectRate)\n",
    "  result$detectPrevalence <- as.numeric(detectPrevalence)\n",
    "  result$precision <- as.numeric(precision)\n",
    "  result$recall <- as.numeric(recall)\n",
    "  result$F1 <- as.numeric(F1)\n",
    "  result$all <- all\n",
    "  \n",
    "  invisible(result)\n",
    "  \n",
    "}\n",
    "\n",
    "\n",
    "confMat.table<-function(data, positive = NULL, verbose = TRUE, ...) {\n",
    "\n",
    "  if(length(dim(data)) != 2) stop(\"The table must have two dimensions.\")\n",
    "  if(nrow(data) != ncol(data)) stop(\"The number of rows must be equal to the number of columns.\")\n",
    "  if(length(colnames(data))!=2) stop(\"The reference must have 2 factor levels.\")\n",
    "\n",
    "  store <- data\n",
    "  \n",
    "  if (!is.null(positive)){\n",
    "  if (which(colnames(store)==positive)==2) {\n",
    "\n",
    "temp <- store[1,]\n",
    "store[1,] <- store [2,]\n",
    "store[2,] <- temp\n",
    "temp <- store[,1]\n",
    "store[,1] <- store[,2]\n",
    "store[,2] <- temp\n",
    "temp <- colnames(store)[1]\n",
    "colnames(store)[1] <- colnames(store)[2]\n",
    "colnames(store)[2] <- temp\n",
    "rownames(store) <- colnames(store)\n",
    "\n",
    "  }}else{positive <- colnames(store)[1]}   \n",
    "  \n",
    "  accuracy <- sum(diag(store))/sum(store)\n",
    "  \n",
    "  pc <- sum(diag(rowSums(store) %*% t(colSums(store))))/(sum(store)^2)\n",
    "  \n",
    "  kappa <- (accuracy-pc)/(1-pc) \n",
    "  \n",
    "  denom <-colSums(store)[1]*colSums(store)[2]*rowSums(store)[1]*rowSums(store)[2]\n",
    "\n",
    "  MCC <- (store[1,1]*store[2,2]-store[1,2]*store[2,1])/sqrt(denom)\n",
    "\n",
    "  ccr <- diag(store)/colSums(store)\n",
    "  \n",
    "  sensitivity <- ccr[1]\n",
    "  specificity <- ccr[2]\n",
    "  \n",
    "  pv <- diag(store)/rowSums(store)\n",
    "  prevalences <- colSums(store)/sum(store)\n",
    "  NIR <- max(prevalences)\n",
    "  prevalence <- prevalences[1]\n",
    "  PPV <- pv[1]\n",
    "  NPV <- pv[2]\n",
    "  baccuracy <- (sensitivity+specificity)/2\n",
    "  youden <- sensitivity+specificity-1\n",
    "  detectRate <- store[1,1]/sum(store)\n",
    "  detectPrevalence <- rowSums(store)[1]/sum(store)\n",
    "  precision <- PPV\n",
    "  recall <- sensitivity\n",
    "  F1 <- 2/(1/recall+1/precision)\n",
    "    \n",
    "  if (verbose) {\n",
    "    cat(\"\\n\")\n",
    "    cat(\"Confusion Matrix and Statistics\", \"\\n\\n\", sep = \" \")\n",
    "    print(store)\n",
    "    cat(\"\\n\")\n",
    "    cat(\"\\n\", \"    Accuracy             :  \", round(accuracy,4), sep = \" \")\n",
    "    cat(\"\\n\", \"    No Information Rate  :  \", round(NIR,4), sep = \" \")\n",
    "    cat(\"\\n\", \"    Kappa                :  \", round(kappa,4), sep = \" \")\n",
    "    cat(\"\\n\", \"    Matthews Corr Coef   :  \", round(MCC,4), sep = \" \")\n",
    "    cat(\"\\n\", \"    Sensitivity          :  \", round(sensitivity,4), sep = \" \")\n",
    "    cat(\"\\n\", \"    Specificity          :  \", round(specificity,4), sep = \" \")\n",
    "    cat(\"\\n\", \"    Positive Pred Value  :  \", round(PPV,4), sep = \" \")\n",
    "    cat(\"\\n\", \"    Negative Pred Value  :  \", round(NPV,4), sep = \" \")\n",
    "    cat(\"\\n\", \"    Prevalence           :  \", round(prevalence,4), sep = \" \")\n",
    "    cat(\"\\n\", \"    Balanced Accuracy    :  \", round(baccuracy,4), sep = \" \")\n",
    "    cat(\"\\n\", \"    Youden Index         :  \", round(youden,4), sep = \" \")\n",
    "    cat(\"\\n\", \"    Detection Rate       :  \", round(detectRate,4), sep = \" \")\n",
    "    cat(\"\\n\", \"    Detection Prevalence :  \", round(detectPrevalence,4), sep = \" \")\n",
    "    cat(\"\\n\", \"    Precision            :  \", round(precision,4), sep = \" \")\n",
    "    cat(\"\\n\", \"    Recall               :  \", round(recall,4), sep = \" \")\n",
    "    cat(\"\\n\", \"    F1                   :  \", round(F1,4), \"\\n\", sep = \" \")\n",
    "    cat(\"\\n\", \"    Positive Class       :  \", positive, \"\\n\", sep = \" \")\n",
    "    cat(\"\\n\")\n",
    "  }   \n",
    "  \n",
    "  all<-rbind(as.numeric(accuracy),as.numeric(NIR),as.numeric(kappa),as.numeric(MCC),as.numeric(sensitivity),as.numeric(specificity),as.numeric(PPV),as.numeric(NPV),as.numeric(prevalence),as.numeric(baccuracy),as.numeric(youden),as.numeric(detectRate),as.numeric(detectPrevalence),as.numeric(precision),as.numeric(recall),as.numeric(F1))\n",
    "\n",
    "rownames(all)<-c(\"accuracy\",\"NIR\",\"kappa\",\"MCC\",\"sensitivity\",\"specificity\",\"PPV\",\"NPV\",\"prevalence\",\"baccuracy\",\"youden\",\"detectRate\",\"detectPrev\",\"precision\",\"recall\",\"F1\")\n",
    "colnames(all)<-\"\"\n",
    "  \n",
    "  result <- list()\n",
    "  result$table <- store\n",
    "  result$accuracy <- as.numeric(accuracy)\n",
    "  result$NIR <- as.numeric(NIR)\n",
    "  result$kappa <- as.numeric(kappa)\n",
    "  result$MCC <- as.numeric(MCC)\n",
    "  result$sensitivity <- as.numeric(sensitivity)\n",
    "  result$specificity <- as.numeric(specificity)\n",
    "  result$PPV <- as.numeric(PPV)\n",
    "  result$NPV <- as.numeric(NPV)\n",
    "  result$prevalence <- as.numeric(prevalence)\n",
    "  result$baccuracy <- as.numeric(baccuracy)\n",
    "  result$youden <- as.numeric(youden)\n",
    "  result$detectRate <- as.numeric(detectRate)\n",
    "  result$detectPrev <- as.numeric(detectPrevalence)\n",
    "  result$precision <- as.numeric(precision)\n",
    "  result$recall <- as.numeric(recall)\n",
    "  result$F1 <- as.numeric(F1)\n",
    "  result$all <- all\n",
    "\n",
    "  invisible(result)\n",
    "\n",
    "\n",
    "}"
   ]
  },
  {
   "cell_type": "code",
   "execution_count": 18,
   "id": "480b5e97-8037-45f5-95f1-10cb32119ef3",
   "metadata": {},
   "outputs": [
    {
     "name": "stderr",
     "output_type": "stream",
     "text": [
      "Warning message in train.default(x, y, weights = w, ...):\n",
      "\"The metric \"Accuracy\" was not in the result set. AUC will be used instead.\"Warning message:\n",
      "\"from glmnet Fortran code (error code -93); Convergence for 93th lambda value not reached after maxit=100000 iterations; solutions for larger lambdas returned\"Warning message:\n",
      "\"from glmnet Fortran code (error code -86); Convergence for 86th lambda value not reached after maxit=100000 iterations; solutions for larger lambdas returned\"Warning message in train.default(x, y, weights = w, ...):\n",
      "\"The metric \"Accuracy\" was not in the result set. AUC will be used instead.\"Warning message in train.default(x, y, weights = w, ...):\n",
      "\"The metric \"Accuracy\" was not in the result set. AUC will be used instead.\""
     ]
    }
   ],
   "source": [
    "############################################# Without feature selection#############################################\n",
    "######### Elastic net\n",
    "model_elastic_radiomics = train(Histology~., data = train[,1:33], method = \"glmnet\", trControl = ctrl, tuneLength = 5)\n",
    "pred_en_radiomics <- predict(model_elastic_radiomics, test[,-1])\n",
    "perf_en_radiomics <- confMat(pred_en_radiomics, test$Histology, verbose = FALSE)$all\n",
    "\n",
    "model_elastic_genomics = train(Histology~., data = train[,c(1,34:5301)], method = \"glmnet\", trControl = ctrl, tuneLength = 5)\n",
    "pred_en_genomics  <- predict(model_elastic_genomics , test[,-1])\n",
    "perf_en_genomics  <- confMat(pred_en_genomics , test$Histology, verbose = FALSE)$all\n",
    "\n",
    "model_elastic_all = train(Histology~., data = train, method = \"glmnet\", trControl = ctrl, tuneLength = 5)\n",
    "pred_en_all <- predict(model_elastic_all, test[,-1])\n",
    "perf_en_all <- confMat(pred_en_all, test$Histology, verbose = FALSE)$all\n",
    "\n",
    "######### Random forest\n",
    "model_rf_radiomics = train(Histology~., data = train[,1:33], method = \"rf\", trControl = ctrl, tuneLength = 5)\n",
    "pred_rf_radiomics <- predict(model_rf_radiomics, test[,-1])\n",
    "perf_rf_radiomics <- confMat(pred_rf_radiomics, test$Histology, verbose = FALSE)$all\n",
    "\n",
    "model_rf_genomics = train(Histology~., data = train[,c(1,34:5301)], method = \"rf\", trControl = ctrl, tuneLength = 5)\n",
    "pred_rf_genomics  <- predict(model_rf_genomics , test[,-1])\n",
    "perf_rf_genomics  <- confMat(pred_rf_genomics , test$Histology, verbose = FALSE)$all\n",
    "\n",
    "model_rf_all = train(Histology~., data = train, method = \"rf\", trControl = ctrl, tuneLength = 5)\n",
    "pred_rf_all <- predict(model_rf_all, test[,-1])\n",
    "perf_rf_all <- confMat(pred_rf_all, test$Histology, verbose = FALSE)$all\n",
    "\n",
    "######### Support vector machines\n",
    "model_svm_linear_radiomics <- train(Histology~., data = train[,1:33], method = \"svmLinear\", trControl = ctrl, tuneLength = 5)\n",
    "pred_svm_linear_radiomics <- predict(model_svm_linear_radiomics, test[,-1])\n",
    "perf_svm_linear_radiomics <- confMat(pred_svm_linear_radiomics, test$Histology, verbose = FALSE)$all\n",
    "\n",
    "model_svm_linear_genomics <- train(Histology~., data = train[,c(1,34:5301)], method = \"svmLinear\", trControl = ctrl, tuneLength = 5)\n",
    "pred_svm_linear_genomics <- predict(model_svm_linear_genomics, test[,-1])\n",
    "perf_svm_linear_genomics <- confMat(pred_svm_linear_genomics, test$Histology, verbose = FALSE)$all\n",
    "\n",
    "model_svm_linear_all <- train(Histology~., data = train, method = \"svmLinear\", trControl = ctrl, tuneLength = 5)\n",
    "pred_svm_linear_all <- predict(model_svm_linear_all, test[,-1])\n",
    "perf_svm_linear_all <- confMat(pred_svm_linear_all, test$Histology, verbose = FALSE)$all\n",
    "\n",
    "\n",
    "model_svm_radial_radiomics <- train(Histology~., data = train[,1:33], method = \"svmRadial\", trControl = ctrl, tuneLength = 5)\n",
    "pred_svm_radial_radiomics <- predict(model_svm_radial_radiomics, test[,-1])\n",
    "perf_svm_radial_radiomics <- confMat(pred_svm_radial_radiomics, test$Histology, verbose = FALSE)$all\n",
    "\n",
    "model_svm_radial_genomics <- train(Histology~., data = train[,c(1,34:5301)], method = \"svmRadial\", trControl = ctrl, tuneLength = 5)\n",
    "pred_svm_radial_genomics <- predict(model_svm_radial_genomics, test[,-1])\n",
    "perf_svm_radial_genomics <- confMat(pred_svm_radial_genomics, test$Histology, verbose = FALSE)$all\n",
    "\n",
    "model_svm_radial_all <- train(Histology~., data = train, method = \"svmRadial\", trControl = ctrl, tuneLength = 5)\n",
    "pred_svm_radial_all <- predict(model_svm_radial_all, test[,-1])\n",
    "perf_svm_radial_all <- confMat(pred_svm_radial_all, test$Histology, verbose = FALSE)$all\n",
    "\n",
    "\n",
    "model_svm_poly_radiomics <- train(Histology~., data = train[,1:33], method = \"svmPoly\", trControl = ctrl, tuneLength = 5) \n",
    "pred_svm_poly_radiomics <- predict(model_svm_poly_radiomics, test[,-1])\n",
    "perf_svm_poly_radiomics <- confMat(pred_svm_poly_radiomics, test$Histology, verbose = FALSE)$all\n",
    "\n",
    "model_svm_poly_genomics <- train(Histology~., data = train[,c(1,34:5301)], method = \"svmPoly\", trControl = ctrl, tuneLength = 5)\n",
    "pred_svm_poly_genomics <- predict(model_svm_poly_genomics, test[,-1])\n",
    "perf_svm_poly_genomics <- confMat(pred_svm_poly_genomics, test$Histology, verbose = FALSE)$all\n",
    "\n",
    "model_svm_poly_all <- train(Histology~., data = train, method = \"svmPoly\", trControl = ctrl, tuneLength = 5)\n",
    "pred_svm_poly_all <- predict(model_svm_poly_all, test[,-1])\n",
    "perf_svm_poly_all <- confMat(pred_svm_poly_all, test$Histology, verbose = FALSE)$all\n",
    "\n",
    "######### Artificial Neural Network\n",
    "model_ann_radiomics = train(Histology~., data = train[,1:33], method = \"nnet\", trControl = ctrl, trace = FALSE, tuneLength = 5)\n",
    "pred_ann_radiomics <- predict(model_ann_radiomics, test[,-1])\n",
    "perf_ann_radiomics <- confMat(pred_ann_radiomics, test$Histology, verbose = FALSE)$all\n",
    "\n",
    "model_ann_genomics = train(Histology~., data = train[,c(1,34:5301)], method = \"nnet\", trControl = ctrl, trace = FALSE, tuneLength = 5)\n",
    "pred_ann_genomics  <- predict(model_ann_genomics , test[,-1])\n",
    "perf_ann_genomics  <- confMat(pred_ann_genomics , test$Histology, verbose = FALSE)$all\n",
    "\n",
    "model_ann_all = train(Histology~., data = train,  trControl = ctrl, trace = FALSE, tuneLength = 5)\n",
    "pred_ann_all <- predict(model_ann_all, test[,-1])\n",
    "perf_ann_all <- confMat(pred_ann_all, test$Histology, verbose = FALSE)$all\n",
    "\n",
    "######### Xgboost\n",
    "model_xgboost_radiomics = train(Histology~., data = train[,1:33], method = \"xgbTree\", trControl = ctrl, tuneLength = 5)\n",
    "pred_xgboost_radiomics <- predict(model_xgboost_radiomics, test[,-1])\n",
    "perf_xgboost_radiomics <- confMat(pred_xgboost_radiomics, test$Histology, verbose = FALSE)$all\n",
    "\n",
    "model_xgboost_genomics = train(Histology~., data = train[,c(1,34:5301)], method = \"xgbTree\", trControl = ctrl, tuneLength = 5)\n",
    "pred_xgboost_genomics  <- predict(model_xgboost_genomics , test[,-1])\n",
    "perf_xgboost_genomics  <- confMat(pred_xgboost_genomics , test$Histology, verbose = FALSE)$all\n",
    "\n",
    "model_xgboost_all = train(Histology~., data = train, method = \"xgbTree\", trControl = ctrl, tuneLength = 5)\n",
    "pred_xgboost_all <- predict(model_xgboost_all, test[,-1])\n",
    "perf_xgboost_all <- confMat(pred_xgboost_all, test$Histology, verbose = FALSE)$all\n",
    "\n",
    "results <- cbind(perf_en_radiomics, perf_en_genomics, perf_en_all, \n",
    "                 perf_rf_radiomics, perf_rf_genomics, perf_rf_all, \n",
    "                 perf_svm_linear_radiomics, perf_svm_linear_genomics, perf_svm_linear_all, \n",
    "                 perf_svm_radial_radiomics, perf_svm_radial_genomics, perf_svm_radial_all, \n",
    "                 perf_svm_poly_radiomics, perf_svm_poly_genomics, perf_svm_poly_all, \n",
    "                 perf_ann_radiomics,#perf_ann_genomics, perf_ann_all, \n",
    "                 perf_xgboost_radiomics, perf_xgboost_genomics, perf_xgboost_all)\n",
    "\n",
    "\n",
    "colnames(results) <- c(\"Elastic  net radiomics\", \"Elastic  net genomics\", \"Elastic  net all\", \n",
    "                       \"Random forest radiomics\", \"Random forest genomics\", \"Random forest all\", \n",
    "                       \"SVM-linear radiomics\", \"SVM-linear genomics\", \"SVM-linear all\", \n",
    "                       \"SVM-radial radiomics\", \"SVM-radial genomics\", \"SVM-radial all\",  \n",
    "                       \"SVM-poly radiomics\", \"SVM-poly genomics\", \"SVM-poly all\", \n",
    "                       \"ANN radiomics\",#\"ANN genomics\", \"ANN all\", \n",
    "                       \"Xgboost radiomics\", \"Xgboost genomics\", \"Xgboost all\")\n",
    "\n",
    "write.csv(results, \"Results_without_feature_selection_set.seed_123.csv\")\n",
    "\n"
   ]
  },
  {
   "cell_type": "code",
   "execution_count": 40,
   "id": "87f860b0-cb1c-4ae9-8e92-948403d7ea62",
   "metadata": {},
   "outputs": [
    {
     "data": {
      "text/html": [
       "<ol class=list-inline>\n",
       "\t<li>'X30'</li>\n",
       "\t<li>'X7'</li>\n",
       "\t<li>'X8'</li>\n",
       "\t<li>'X15'</li>\n",
       "\t<li>'X13'</li>\n",
       "</ol>\n"
      ],
      "text/latex": [
       "\\begin{enumerate*}\n",
       "\\item 'X30'\n",
       "\\item 'X7'\n",
       "\\item 'X8'\n",
       "\\item 'X15'\n",
       "\\item 'X13'\n",
       "\\end{enumerate*}\n"
      ],
      "text/markdown": [
       "1. 'X30'\n",
       "2. 'X7'\n",
       "3. 'X8'\n",
       "4. 'X15'\n",
       "5. 'X13'\n",
       "\n",
       "\n"
      ],
      "text/plain": [
       "[1] \"X30\" \"X7\"  \"X8\"  \"X15\" \"X13\""
      ]
     },
     "metadata": {},
     "output_type": "display_data"
    },
    {
     "data": {
      "text/html": [
       "<ol class=list-inline>\n",
       "\t<li>'GTF3A'</li>\n",
       "\t<li>'DNAJB14'</li>\n",
       "\t<li>'ZCCHC2'</li>\n",
       "\t<li>'MYLIP'</li>\n",
       "\t<li>'SETD5'</li>\n",
       "</ol>\n"
      ],
      "text/latex": [
       "\\begin{enumerate*}\n",
       "\\item 'GTF3A'\n",
       "\\item 'DNAJB14'\n",
       "\\item 'ZCCHC2'\n",
       "\\item 'MYLIP'\n",
       "\\item 'SETD5'\n",
       "\\end{enumerate*}\n"
      ],
      "text/markdown": [
       "1. 'GTF3A'\n",
       "2. 'DNAJB14'\n",
       "3. 'ZCCHC2'\n",
       "4. 'MYLIP'\n",
       "5. 'SETD5'\n",
       "\n",
       "\n"
      ],
      "text/plain": [
       "[1] \"GTF3A\"   \"DNAJB14\" \"ZCCHC2\"  \"MYLIP\"   \"SETD5\"  "
      ]
     },
     "metadata": {},
     "output_type": "display_data"
    }
   ],
   "source": [
    "############################################################# RFE #############################################################\n",
    "control_rfe = rfeControl(functions = rfFuncs, #treebagFuncs , #nbFuncs, #, # random forest\n",
    "                         method = \"repeatedcv\", # repeated cv\n",
    "                         number = 5, # number of folds\n",
    "                         repeats = 5) # number of repeats\n",
    "                         \n",
    "# Performing RFE\n",
    "radiomics <- train[,1:33]\n",
    "result_rfe_radiomics = rfe(x = radiomics[,-1], #x_train, \n",
    "                           y = as.factor(radiomics[,1]), #y_train,\n",
    "                           sizes = c(1:8), rfeControl = control_rfe)\n",
    "result_rfe_radiomics$optVariables[1:5] \n",
    "radiomics_rfe <- cbind(as.factor(radiomics[,1]), subset(radiomics, select = result_rfe_radiomics$optVariables[1:5]))\n",
    "names(radiomics_rfe)[1] <- \"Histology\"\n",
    "\n",
    "\n",
    "genomics <- train[,c(1,34:5301)]\n",
    "result_rfe_genomics = rfe(x = genomics[,-1], #x_train, \n",
    "                          y = genomics[,1], #y_train,\n",
    "                          sizes = c(1:8), rfeControl = control_rfe)\n",
    "result_rfe_genomics$optVariables[1:5] \n",
    "genomics_rfe <- cbind(as.factor(genomics[,1]), subset(genomics, select = result_rfe_genomics$optVariables[1:5]))\n",
    "names(genomics_rfe)[1] <- \"Histology\"\n",
    "\n",
    "all_rfe <- cbind(radiomics_rfe, genomics_rfe[,-1])\n",
    "\n",
    "########## Elastic Net\n",
    "model_en_rfe_radiomics = train(Histology~., data = radiomics_rfe, method = \"glmnet\", trControl = ctrl, tuneLength = 5)\n",
    "pred_en_rfe_radiomics <- predict(model_en_rfe_radiomics, test[,-1])\n",
    "perf_en_rfe_radiomics <- confMat(pred_en_rfe_radiomics, test$Histology, verbose = FALSE)$all\n",
    "\n",
    "model_en_rfe_genomics = train(Histology~., data = genomics_rfe, method = \"glmnet\", trControl = ctrl, tuneLength = 5)\n",
    "pred_en_rfe_genomics <- predict(model_en_rfe_genomics, test[,-1])\n",
    "perf_en_rfe_genomics <- confMat(pred_en_rfe_genomics, test$Histology, verbose = FALSE)$all\n",
    "\n",
    "model_en_rfe_all = train(Histology~., data = all_rfe, method = \"glmnet\", trControl = ctrl, tuneLength = 5)\n",
    "pred_en_rfe_all <- predict(model_en_rfe_all, test[,-1])\n",
    "perf_en_rfe_all <- confMat(pred_en_rfe_all, test$Histology, verbose = FALSE)$all\n",
    "\n",
    "########## Random Forest\n",
    "model_rf_rfe_radiomics = train(Histology~., data = radiomics_rfe, method = \"rf\", trControl = ctrl, tuneLength = 5)\n",
    "pred_rf_rfe_radiomics <- predict(model_rf_rfe_radiomics, test[,-1])\n",
    "perf_rf_rfe_radiomics <- confMat(pred_rf_rfe_radiomics, test$Histology, verbose = FALSE)$all\n",
    "\n",
    "model_rf_rfe_genomics = train(Histology~., data = genomics_rfe, method = \"rf\", trControl = ctrl, tuneLength = 5)\n",
    "pred_rf_rfe_genomics <- predict(model_rf_rfe_genomics, test[,-1])\n",
    "perf_rf_rfe_genomics <- confMat(pred_rf_rfe_genomics, test$Histology, verbose = FALSE)$all\n",
    "\n",
    "model_rf_rfe_all = train(Histology~., data = all_rfe, method = \"rf\", trControl = ctrl, tuneLength = 5)\n",
    "pred_rf_rfe_all <- predict(model_rf_rfe_all, test[,-1])\n",
    "perf_rf_rfe_all <- confMat(pred_rf_rfe_all, test$Histology, verbose = FALSE)$all\n",
    "\n",
    "########## Support Vector Machines - Linear\n",
    "model_svm_linear_rfe_radiomics = train(Histology~., data = radiomics_rfe, method = \"svmLinear\", trControl = ctrl, tuneLength = 5)\n",
    "pred_svm_linear_rfe_radiomics <- predict(model_svm_linear_rfe_radiomics, test[,-1])\n",
    "perf_svm_linear_rfe_radiomics <- confMat(pred_svm_linear_rfe_radiomics, test$Histology, verbose = FALSE)$all\n",
    "\n",
    "model_svm_linear_rfe_genomics = train(Histology~., data = genomics_rfe, method = \"svmLinear\", trControl = ctrl, tuneLength = 5)\n",
    "pred_svm_linear_rfe_genomics <- predict(model_svm_linear_rfe_genomics, test[,-1])\n",
    "perf_svm_linear_rfe_genomics <- confMat(pred_svm_linear_rfe_genomics, test$Histology, verbose = FALSE)$all\n",
    "\n",
    "model_svm_linear_rfe_all = train(Histology~., data = all_rfe, method = \"svmLinear\", trControl = ctrl, tuneLength = 5)\n",
    "pred_svm_linear_rfe_all <- predict(model_svm_linear_rfe_all, test[,-1])\n",
    "perf_svm_linear_rfe_all <- confMat(pred_svm_linear_rfe_all, test$Histology, verbose = FALSE)$all\n",
    "\n",
    "########## Support Vector Machines - Radial\n",
    "model_svm_radial_rfe_radiomics = train(Histology~., data = radiomics_rfe, method = \"svmRadial\", trControl = ctrl, tuneLength = 5)\n",
    "pred_svm_radial_rfe_radiomics <- predict(model_svm_radial_rfe_radiomics, test[,-1])\n",
    "perf_svm_radial_rfe_radiomics <- confMat(pred_svm_radial_rfe_radiomics, test$Histology, verbose = FALSE)$all\n",
    "\n",
    "model_svm_radial_rfe_genomics = train(Histology~., data = genomics_rfe, method = \"svmRadial\", trControl = ctrl, tuneLength = 5)\n",
    "pred_svm_radial_rfe_genomics <- predict(model_svm_radial_rfe_genomics, test[,-1])\n",
    "perf_svm_radial_rfe_genomics <- confMat(pred_svm_radial_rfe_genomics, test$Histology, verbose = FALSE)$all\n",
    "\n",
    "model_svm_radial_rfe_all = train(Histology~., data = all_rfe, method = \"svmRadial\", trControl = ctrl, tuneLength = 5)\n",
    "pred_svm_radial_rfe_all <- predict(model_svm_radial_rfe_all, test[,-1])\n",
    "perf_svm_radial_rfe_all <- confMat(pred_svm_radial_rfe_all, test$Histology, verbose = FALSE)$all\n",
    "\n",
    "########## Support Vector Machines - Polynomial\n",
    "model_svm_poly_rfe_radiomics = train(Histology~., data = radiomics_rfe, method = \"svmPoly\", trControl = ctrl, tuneLength = 5)\n",
    "pred_svm_poly_rfe_radiomics <- predict(model_svm_poly_rfe_radiomics, test[,-1])\n",
    "perf_svm_poly_rfe_radiomics <- confMat(pred_svm_poly_rfe_radiomics, test$Histology, verbose = FALSE)$all\n",
    "\n",
    "model_svm_poly_rfe_genomics = train(Histology~., data = genomics_rfe, method = \"svmPoly\", trControl = ctrl, tuneLength = 5)\n",
    "pred_svm_poly_rfe_genomics <- predict(model_svm_poly_rfe_genomics, test[,-1])\n",
    "perf_svm_poly_rfe_genomics <- confMat(pred_svm_poly_rfe_genomics, test$Histology, verbose = FALSE)$all\n",
    "\n",
    "model_svm_poly_rfe_all = train(Histology~., data = all_rfe, method = \"svmPoly\", trControl = ctrl, tuneLength = 5)\n",
    "pred_svm_poly_rfe_all <- predict(model_svm_poly_rfe_all, test[,-1])\n",
    "perf_svm_poly_rfe_all <- confMat(pred_svm_poly_rfe_all, test$Histology, verbose = FALSE)$all\n",
    "\n",
    "########## Artificial Neural Networks\n",
    "model_ann_rfe_radiomics = train(Histology~., data = radiomics_rfe, method = \"nnet\", trControl = ctrl, trace = FALSE, tuneLength = 5)\n",
    "pred_ann_rfe_radiomics <- predict(model_ann_rfe_radiomics, test[,-1])\n",
    "perf_ann_rfe_radiomics <- confMat(pred_ann_rfe_radiomics, test$Histology, verbose = FALSE)$all\n",
    "\n",
    "model_ann_rfe_genomics = train(Histology~., data = genomics_rfe, method = \"nnet\", trControl = ctrl, trace = FALSE, tuneLength = 5)\n",
    "pred_ann_rfe_genomics <- predict(model_ann_rfe_genomics, test[,-1])\n",
    "perf_ann_rfe_genomics <- confMat(pred_ann_rfe_genomics, test$Histology, verbose = FALSE)$all\n",
    "\n",
    "model_ann_rfe_all = train(Histology~., data = all_rfe, method = \"nnet\", trControl = ctrl, trace = FALSE, tuneLength = 5)\n",
    "pred_ann_rfe_all <- predict(model_ann_rfe_all, test[,-1])\n",
    "perf_ann_rfe_all <- confMat(pred_ann_rfe_all, test$Histology, verbose = FALSE)$all\n",
    "\n",
    "########## XGBoost\n",
    "model_xgboost_rfe_radiomics = train(Histology~., data = radiomics_rfe, method = \"xgbTree\", trControl = ctrl, tuneLength = 5)\n",
    "pred_xgboost_rfe_radiomics <- predict(model_xgboost_rfe_radiomics, test[,-1])\n",
    "perf_xgboost_rfe_radiomics <- confMat(pred_xgboost_rfe_radiomics, test$Histology, verbose = FALSE)$all\n",
    "\n",
    "model_xgboost_rfe_genomics = train(Histology~., data = genomics_rfe, method = \"xgbTree\", trControl = ctrl, tuneLength = 5)\n",
    "pred_xgboost_rfe_genomics <- predict(model_xgboost_rfe_genomics, test[,-1])\n",
    "perf_xgboost_rfe_genomics <- confMat(pred_xgboost_rfe_genomics, test$Histology, verbose = FALSE)$all\n",
    "\n",
    "model_xgboost_rfe_all = train(Histology~., data = all_rfe, method = \"xgbTree\", trControl = ctrl, tuneLength = 5)\n",
    "pred_xgboost_rfe_all <- predict(model_xgboost_rfe_all, test[,-1])\n",
    "perf_xgboost_rfe_all <- confMat(pred_xgboost_rfe_all, test$Histology, verbose = FALSE)$all\n",
    "\n",
    "\n",
    "results <- cbind(perf_en_rfe_radiomics, perf_en_rfe_genomics, perf_en_rfe_all, \n",
    "                 perf_rf_rfe_radiomics, perf_rf_rfe_genomics, perf_rf_rfe_all, \n",
    "                 perf_svm_linear_rfe_radiomics, perf_svm_linear_rfe_genomics, perf_svm_linear_rfe_all, \n",
    "                 perf_svm_radial_rfe_radiomics, perf_svm_radial_rfe_genomics, perf_svm_radial_rfe_all, \n",
    "                 perf_svm_poly_rfe_radiomics, perf_svm_poly_rfe_genomics, perf_svm_poly_rfe_all, \n",
    "                 perf_ann_rfe_radiomics, perf_ann_rfe_genomics, perf_ann_rfe_all, \n",
    "                 perf_xgboost_rfe_radiomics, perf_xgboost_rfe_genomics, perf_xgboost_rfe_all)\n",
    "\n",
    "\n",
    "colnames(results) <- c(\"Elastic  net radiomics\", \"Elastic  net genomics\", \"Elastic net all\", \n",
    "                       \"Random forest radiomics\", \"Random forest genomics\", \"Random forest all\", \n",
    "                       \"SVM-linear radiomics\", \"SVM-linear genomics\", \"SVM-linear all\", \n",
    "                       \"SVM-radial radiomics\", \"SVM-radial genomics\", \"SVM-radial all\",  \n",
    "                       \"SVM-poly radiomics\", \"SVM-poly genomics\",  \"SVM-poly all\", \n",
    "                       \"ANN radiomics\", \"ANN genomics\", \"ANN all\", \n",
    "                       \"Xgboost radiomics\", \"Xgboost genomics\", \"Xgboost all\")\n",
    "\n",
    "write.csv(results, \"Result_RFE_set.seed_123.csv\")\n",
    "View(results)"
   ]
  },
  {
   "cell_type": "code",
   "execution_count": 53,
   "id": "b4ed3bdc-d497-454c-aae8-6e605f6ea1d8",
   "metadata": {},
   "outputs": [
    {
     "ename": "ERROR",
     "evalue": "Error: package or namespace load failed for 'genefilter' in loadNamespace(j <- i[[1L]], c(lib.loc, .libPaths()), versionCheck = vI[[j]]):\n there is no package called 'blob'\n",
     "output_type": "error",
     "traceback": [
      "Error: package or namespace load failed for 'genefilter' in loadNamespace(j <- i[[1L]], c(lib.loc, .libPaths()), versionCheck = vI[[j]]):\n there is no package called 'blob'\nTraceback:\n",
      "1. library(\"genefilter\")",
      "2. tryCatch({\n .     attr(package, \"LibPath\") <- which.lib.loc\n .     ns <- loadNamespace(package, lib.loc)\n .     env <- attachNamespace(ns, pos = pos, deps, exclude, include.only)\n . }, error = function(e) {\n .     P <- if (!is.null(cc <- conditionCall(e))) \n .         paste(\" in\", deparse(cc)[1L])\n .     else \"\"\n .     msg <- gettextf(\"package or namespace load failed for %s%s:\\n %s\", \n .         sQuote(package), P, conditionMessage(e))\n .     if (logical.return) \n .         message(paste(\"Error:\", msg), domain = NA)\n .     else stop(msg, call. = FALSE, domain = NA)\n . })",
      "3. tryCatchList(expr, classes, parentenv, handlers)",
      "4. tryCatchOne(expr, names, parentenv, handlers[[1L]])",
      "5. value[[3L]](cond)",
      "6. stop(msg, call. = FALSE, domain = NA)"
     ]
    }
   ],
   "source": [
    "################################################### Univariate analysis ###################################################\n",
    "###### AUC\n",
    "AUC_results <- colAUC(train[,2:33], train$Histology)\n",
    "AUC_names <- store <- NULL\n",
    "for(i in 1:length(AUC_results)){\n",
    "  if(AUC_results[1,][i]>0.65){\n",
    "    AUC_names <- names(AUC_results[1,][i])\n",
    "    store <- cbind(store, AUC_names)\n",
    "  }\n",
    "}\n",
    "length(store)\n",
    "radiomics_data_AUC <- subset(train[,2:33], select = store[1,])\n",
    "dim(radiomics_data_AUC)\n",
    "radiomics_data_AUC_Histology <- cbind(train$Histology, radiomics_data_AUC)\n",
    "names(radiomics_data_AUC_Histology)[1] <- \"Histology\"\n",
    "\n",
    "#########\n",
    "AUC_results <- colAUC(train[,34:5301], train$Histology)\n",
    "AUC_names <- store <- NULL\n",
    "for(i in 1:length(AUC_results)){\n",
    "  if(AUC_results[1,][i]>0.70){\n",
    "    AUC_names <- names(AUC_results[1,][i])\n",
    "    store <- cbind(store, AUC_names)\n",
    "  }\n",
    "}\n",
    "length(store)\n",
    "\n",
    "genetic_data_AUC <- subset(train[,34:5301], select = store[1,])\n",
    "dim(genetic_data_AUC)\n",
    "genetic_data_AUC_histology <- cbind(train$Histology, genetic_data_AUC)\n",
    "names(genetic_data_AUC_histology)[1] <- \"Histology\"\n",
    "\n",
    "all_rfe <- cbind(radiomics_data_AUC_Histology, genetic_data_AUC_histology[,-1])\n",
    "\n",
    "#Cross-validation\n",
    "ctrl = trainControl(method=\"cv\", number=5, returnResamp = \"final\", summaryFunction = prSummary, classProbs = TRUE,\n",
    "                    savePredictions = T, verbose=F)\n",
    "\n",
    "########## Elastic Net\n",
    "model_en_rfe_radiomics = train(Histology~., data = radiomics_data_AUC_Histology, method = \"glmnet\", trControl = ctrl, tuneLength=5)\n",
    "pred_en_rfe_radiomics <- predict(model_en_rfe_radiomics, test[,-1])\n",
    "perf_en_rfe_radiomics <- confMat(pred_en_rfe_radiomics, test$Histology, verbose = FALSE)$all\n",
    "\n",
    "model_en_rfe_genomics = train(Histology~., data = genetic_data_AUC_histology, method = \"glmnet\", trControl = ctrl, tuneLength=5)\n",
    "pred_en_rfe_genomics <- predict(model_en_rfe_genomics, test[,-1])\n",
    "perf_en_rfe_genomics <- confMat(pred_en_rfe_genomics, test$Histology, verbose = FALSE)$all\n",
    "\n",
    "model_en_rfe_all = train(Histology~., data = all_rfe, method = \"glmnet\", trControl = ctrl, tuneLength=5)\n",
    "pred_en_rfe_all <- predict(model_en_rfe_all, test[,-1])\n",
    "perf_en_rfe_all <- confMat(pred_en_rfe_all, test$Histology, verbose = FALSE)$all\n",
    "\n",
    "\n",
    "########## Random Forest\n",
    "model_rf_rfe_radiomics = train(Histology~., data = radiomics_data_AUC_Histology, method = \"rf\", trControl = ctrl, tuneLength=5)\n",
    "pred_rf_rfe_radiomics <- predict(model_rf_rfe_radiomics, test[,-1])\n",
    "perf_rf_rfe_radiomics <- confMat(pred_rf_rfe_radiomics, test$Histology, verbose = FALSE)$all\n",
    "\n",
    "model_rf_rfe_genomics = train(Histology~., data = genetic_data_AUC_histology, method = \"rf\", trControl = ctrl, tuneLength=5)\n",
    "pred_rf_rfe_genomics <- predict(model_rf_rfe_genomics, test[,-1])\n",
    "perf_rf_rfe_genomics <- confMat(pred_rf_rfe_genomics, test$Histology, verbose = FALSE)$all\n",
    "\n",
    "model_rf_rfe_all = train(Histology~., data = all_rfe, method = \"rf\", trControl = ctrl, tuneLength=5)\n",
    "pred_rf_rfe_all <- predict(model_rf_rfe_all, test[,-1])\n",
    "perf_rf_rfe_all <- confMat(pred_rf_rfe_all, test$Histology, verbose = FALSE)$all\n",
    "\n",
    "\n",
    "########## Support Vector Machines - Linear\n",
    "model_svm_linear_rfe_radiomics = train(Histology~., data = radiomics_data_AUC_Histology, method = \"svmLinear\", trControl = ctrl, tuneLength=5)\n",
    "pred_svm_linear_rfe_radiomics <- predict(model_svm_linear_rfe_radiomics, test[,-1])\n",
    "perf_svm_linear_rfe_radiomics <- confMat(pred_svm_linear_rfe_radiomics, test$Histology, verbose = FALSE)$all\n",
    "\n",
    "model_svm_linear_rfe_genomics = train(Histology~., data = genetic_data_AUC_histology, method = \"svmLinear\", trControl = ctrl, tuneLength=5)\n",
    "pred_svm_linear_rfe_genomics <- predict(model_svm_linear_rfe_genomics, test[,-1])\n",
    "perf_svm_linear_rfe_genomics <- confMat(pred_svm_linear_rfe_genomics, test$Histology, verbose = FALSE)$all\n",
    "\n",
    "model_svm_linear_rfe_all = train(Histology~., data = all_rfe, method = \"svmLinear\", trControl = ctrl, tuneLength=5)\n",
    "pred_svm_linear_rfe_all <- predict(model_svm_linear_rfe_all, test[,-1])\n",
    "perf_svm_linear_rfe_all <- confMat(pred_svm_linear_rfe_all, test$Histology, verbose = FALSE)$all\n",
    "\n",
    "\n",
    "########## Support Vector Machines - Radial\n",
    "model_svm_radial_rfe_radiomics = train(Histology~., data = radiomics_data_AUC_Histology, method = \"svmRadial\", trControl = ctrl, tuneLength=5)\n",
    "pred_svm_radial_rfe_radiomics <- predict(model_svm_radial_rfe_radiomics, test[,-1])\n",
    "perf_svm_radial_rfe_radiomics <- confMat(pred_svm_radial_rfe_radiomics, test$Histology, verbose = FALSE)$all\n",
    "\n",
    "model_svm_radial_rfe_genomics = train(Histology~., data = genetic_data_AUC_histology, method = \"svmRadial\", trControl = ctrl, tuneLength=5)\n",
    "pred_svm_radial_rfe_genomics <- predict(model_svm_radial_rfe_genomics, test[,-1])\n",
    "perf_svm_radial_rfe_genomics <- confMat(pred_svm_radial_rfe_genomics, test$Histology, verbose = FALSE)$all\n",
    "\n",
    "model_svm_radial_rfe_all = train(Histology~., data = all_rfe, method = \"svmRadial\", trControl = ctrl, tuneLength=5)\n",
    "pred_svm_radial_rfe_all <- predict(model_svm_radial_rfe_all, test[,-1])\n",
    "perf_svm_radial_rfe_all <- confMat(pred_svm_radial_rfe_all, test$Histology, verbose = FALSE)$all\n",
    "\n",
    "\n",
    "\n",
    "########## Support Vector Machines - Polynomial\n",
    "model_svm_poly_rfe_radiomics = train(Histology~., data = radiomics_data_AUC_Histology, method = \"svmPoly\", trControl = ctrl, tuneLength=5)\n",
    "pred_svm_poly_rfe_radiomics <- predict(model_svm_poly_rfe_radiomics, test[,-1])\n",
    "perf_svm_poly_rfe_radiomics <- confMat(pred_svm_poly_rfe_radiomics, test$Histology, verbose = FALSE)$all\n",
    "\n",
    "model_svm_poly_rfe_genomics = train(Histology~., data = genetic_data_AUC_histology, method = \"svmPoly\", trControl = ctrl, tuneLength=5)\n",
    "pred_svm_poly_rfe_genomics <- predict(model_svm_poly_rfe_genomics, test[,-1])\n",
    "perf_svm_poly_rfe_genomics <- confMat(pred_svm_poly_rfe_genomics, test$Histology, verbose = FALSE)$all\n",
    "\n",
    "model_svm_poly_rfe_all = train(Histology~., data = all_rfe, method = \"svmPoly\", trControl = ctrl, tuneLength=5)\n",
    "pred_svm_poly_rfe_all <- predict(model_svm_poly_rfe_all, test[,-1])\n",
    "perf_svm_poly_rfe_all <- confMat(pred_svm_poly_rfe_all, test$Histology, verbose = FALSE)$all\n",
    "\n",
    "\n",
    "\n",
    "########## Artificial Neural Networks\n",
    "model_ann_rfe_radiomics = train(Histology~., data = radiomics_data_AUC_Histology, method = \"nnet\", trControl = ctrl, trace = FALSE, tuneLength=5)\n",
    "pred_ann_rfe_radiomics <- predict(model_ann_rfe_radiomics, test[,-1])\n",
    "perf_ann_rfe_radiomics <- confMat(pred_ann_rfe_radiomics, test$Histology, verbose = FALSE)$all\n",
    "\n",
    "model_ann_rfe_genomics = train(Histology~., data = genetic_data_AUC_histology, method = \"nnet\", trControl = ctrl, trace = FALSE, tuneLength=5)\n",
    "pred_ann_rfe_genomics <- predict(model_ann_rfe_genomics, test[,-1])\n",
    "perf_ann_rfe_genomics <- confMat(pred_ann_rfe_genomics, test$Histology, verbose = FALSE)$all\n",
    "\n",
    "model_ann_rfe_all = train(Histology~., data = all_rfe, method = \"nnet\", trControl = ctrl, trace = FALSE, tuneLength=5)\n",
    "pred_ann_rfe_all <- predict(model_ann_rfe_all, test[,-1])\n",
    "perf_ann_rfe_all <- confMat(pred_ann_rfe_all, test$Histology, verbose = FALSE)$all\n",
    "\n",
    "\n",
    "\n",
    "########## XGBoost\n",
    "model_xgboost_rfe_radiomics = train(Histology~., data = radiomics_data_AUC_Histology, method = \"xgbTree\", trControl = ctrl, tuneLength=5)\n",
    "pred_xgboost_rfe_radiomics <- predict(model_xgboost_rfe_radiomics, test[,-1])\n",
    "perf_xgboost_rfe_radiomics <- confMat(pred_xgboost_rfe_radiomics, test$Histology, verbose = FALSE)$all\n",
    "\n",
    "model_xgboost_rfe_genomics = train(Histology~., data = genetic_data_AUC_histology, method = \"xgbTree\", trControl = ctrl, tuneLength=5)\n",
    "pred_xgboost_rfe_genomics <- predict(model_xgboost_rfe_genomics, test[,-1])\n",
    "perf_xgboost_rfe_genomics <- confMat(pred_xgboost_rfe_genomics, test$Histology, verbose = FALSE)$all\n",
    "\n",
    "model_xgboost_rfe_all = train(Histology~., data = all_rfe, method = \"xgbTree\", trControl = ctrl, tuneLength=5)\n",
    "pred_xgboost_rfe_all <- predict(model_xgboost_rfe_all, test[,-1])\n",
    "perf_xgboost_rfe_all <- confMat(pred_xgboost_rfe_all, test$Histology, verbose = FALSE)$all\n",
    "\n",
    "\n",
    "\n",
    "results <- cbind(perf_en_rfe_radiomics, perf_en_rfe_genomics, perf_en_rfe_all, \n",
    "                 perf_rf_rfe_radiomics, perf_rf_rfe_genomics, perf_rf_rfe_all, \n",
    "                 perf_svm_linear_rfe_radiomics, perf_svm_linear_rfe_genomics, perf_svm_linear_rfe_all, \n",
    "                 perf_svm_radial_rfe_radiomics, perf_svm_radial_rfe_genomics, perf_svm_radial_rfe_all, \n",
    "                 perf_svm_poly_rfe_radiomics, perf_svm_poly_rfe_genomics, perf_svm_poly_rfe_all, \n",
    "                 perf_ann_rfe_radiomics, perf_ann_rfe_genomics, perf_ann_rfe_all, \n",
    "                 perf_xgboost_rfe_radiomics, perf_xgboost_rfe_genomics, perf_xgboost_rfe_all)\n",
    "\n",
    "\n",
    "colnames(results) <- c(\"Elastic  net radiomics\", \"Elastic  net genomics\", \"Elastic net all\", \n",
    "                       \"Random forest radiomics\", \"Random forest genomics\", \"Random forest all\", \n",
    "                       \"SVM-linear radiomics\", \"SVM-linear genomics\", \"SVM-linear all\", \n",
    "                       \"SVM-radial radiomics\", \"SVM-radial genomics\", \"SVM-radial all\",  \n",
    "                       \"SVM-poly radiomics\", \"SVM-poly genomics\",  \"SVM-poly all\", \n",
    "                       \"ANN radiomics\", \"ANN genomics\", \"ANN all\", \n",
    "                       \"Xgboost radiomics\", \"Xgboost genomics\", \"Xgboost all\")\n",
    "\n",
    "write.csv(results, \"Result_AUC_set.seed_123.csv\") "
   ]
  },
  {
   "cell_type": "code",
   "execution_count": 67,
   "id": "957f402e-d465-4f76-afd3-e1ab0d45807d",
   "metadata": {},
   "outputs": [
    {
     "data": {
      "text/html": [
       "<ol class=list-inline>\n",
       "\t<li>40</li>\n",
       "\t<li>2</li>\n",
       "</ol>\n"
      ],
      "text/latex": [
       "\\begin{enumerate*}\n",
       "\\item 40\n",
       "\\item 2\n",
       "\\end{enumerate*}\n"
      ],
      "text/markdown": [
       "1. 40\n",
       "2. 2\n",
       "\n",
       "\n"
      ],
      "text/plain": [
       "[1] 40  2"
      ]
     },
     "metadata": {},
     "output_type": "display_data"
    },
    {
     "data": {
      "text/html": [
       "<ol class=list-inline>\n",
       "\t<li>40</li>\n",
       "\t<li>208</li>\n",
       "</ol>\n"
      ],
      "text/latex": [
       "\\begin{enumerate*}\n",
       "\\item 40\n",
       "\\item 208\n",
       "\\end{enumerate*}\n"
      ],
      "text/markdown": [
       "1. 40\n",
       "2. 208\n",
       "\n",
       "\n"
      ],
      "text/plain": [
       "[1]  40 208"
      ]
     },
     "metadata": {},
     "output_type": "display_data"
    }
   ],
   "source": [
    "dim(radiomics_data_AUC_Histology[,-1])\n",
    "dim(genetic_data_AUC_histology[,-1])"
   ]
  },
  {
   "cell_type": "code",
   "execution_count": 77,
   "id": "0a3192b0-b5ad-48c4-ba68-7bc48a363d18",
   "metadata": {},
   "outputs": [
    {
     "data": {
      "text/html": [],
      "text/latex": [],
      "text/markdown": [],
      "text/plain": [
       "character(0)"
      ]
     },
     "metadata": {},
     "output_type": "display_data"
    },
    {
     "data": {
      "text/html": [
       "<ol class=list-inline>\n",
       "\t<li>'AAK1'</li>\n",
       "\t<li>'CELF1'</li>\n",
       "\t<li>'GTF3A'</li>\n",
       "\t<li>'SETD5'</li>\n",
       "\t<li>'ZCCHC2'</li>\n",
       "</ol>\n"
      ],
      "text/latex": [
       "\\begin{enumerate*}\n",
       "\\item 'AAK1'\n",
       "\\item 'CELF1'\n",
       "\\item 'GTF3A'\n",
       "\\item 'SETD5'\n",
       "\\item 'ZCCHC2'\n",
       "\\end{enumerate*}\n"
      ],
      "text/markdown": [
       "1. 'AAK1'\n",
       "2. 'CELF1'\n",
       "3. 'GTF3A'\n",
       "4. 'SETD5'\n",
       "5. 'ZCCHC2'\n",
       "\n",
       "\n"
      ],
      "text/plain": [
       "[1] \"AAK1\"   \"CELF1\"  \"GTF3A\"  \"SETD5\"  \"ZCCHC2\""
      ]
     },
     "metadata": {},
     "output_type": "display_data"
    },
    {
     "data": {
      "text/html": [],
      "text/latex": [],
      "text/markdown": [],
      "text/plain": [
       "character(0)"
      ]
     },
     "metadata": {},
     "output_type": "display_data"
    },
    {
     "data": {
      "text/html": [],
      "text/latex": [],
      "text/markdown": [],
      "text/plain": [
       "character(0)"
      ]
     },
     "metadata": {},
     "output_type": "display_data"
    },
    {
     "data": {
      "text/html": [],
      "text/latex": [],
      "text/markdown": [],
      "text/plain": [
       "character(0)"
      ]
     },
     "metadata": {},
     "output_type": "display_data"
    },
    {
     "data": {
      "text/html": [],
      "text/latex": [],
      "text/markdown": [],
      "text/plain": [
       "character(0)"
      ]
     },
     "metadata": {},
     "output_type": "display_data"
    },
    {
     "data": {
      "text/html": [],
      "text/latex": [],
      "text/markdown": [],
      "text/plain": [
       "character(0)"
      ]
     },
     "metadata": {},
     "output_type": "display_data"
    },
    {
     "data": {
      "text/html": [
       "<ol class=list-inline>\n",
       "\t<li>'GTF3A'</li>\n",
       "\t<li>'RPL26'</li>\n",
       "\t<li>'ZNF598'</li>\n",
       "</ol>\n"
      ],
      "text/latex": [
       "\\begin{enumerate*}\n",
       "\\item 'GTF3A'\n",
       "\\item 'RPL26'\n",
       "\\item 'ZNF598'\n",
       "\\end{enumerate*}\n"
      ],
      "text/markdown": [
       "1. 'GTF3A'\n",
       "2. 'RPL26'\n",
       "3. 'ZNF598'\n",
       "\n",
       "\n"
      ],
      "text/plain": [
       "[1] \"GTF3A\"  \"RPL26\"  \"ZNF598\""
      ]
     },
     "metadata": {},
     "output_type": "display_data"
    },
    {
     "data": {
      "text/html": [],
      "text/latex": [],
      "text/markdown": [],
      "text/plain": [
       "character(0)"
      ]
     },
     "metadata": {},
     "output_type": "display_data"
    },
    {
     "data": {
      "text/html": [
       "<ol class=list-inline>\n",
       "\t<li>'GTF3A'</li>\n",
       "\t<li>'KLHL20'</li>\n",
       "\t<li>'SKAP2'</li>\n",
       "\t<li>'ZCCHC2'</li>\n",
       "</ol>\n"
      ],
      "text/latex": [
       "\\begin{enumerate*}\n",
       "\\item 'GTF3A'\n",
       "\\item 'KLHL20'\n",
       "\\item 'SKAP2'\n",
       "\\item 'ZCCHC2'\n",
       "\\end{enumerate*}\n"
      ],
      "text/markdown": [
       "1. 'GTF3A'\n",
       "2. 'KLHL20'\n",
       "3. 'SKAP2'\n",
       "4. 'ZCCHC2'\n",
       "\n",
       "\n"
      ],
      "text/plain": [
       "[1] \"GTF3A\"  \"KLHL20\" \"SKAP2\"  \"ZCCHC2\""
      ]
     },
     "metadata": {},
     "output_type": "display_data"
    },
    {
     "data": {
      "text/html": [],
      "text/latex": [],
      "text/markdown": [],
      "text/plain": [
       "character(0)"
      ]
     },
     "metadata": {},
     "output_type": "display_data"
    },
    {
     "data": {
      "text/html": [
       "<ol class=list-inline>\n",
       "\t<li>'GTF3A'</li>\n",
       "\t<li>'SKAP2'</li>\n",
       "\t<li>'ZCCHC2'</li>\n",
       "</ol>\n"
      ],
      "text/latex": [
       "\\begin{enumerate*}\n",
       "\\item 'GTF3A'\n",
       "\\item 'SKAP2'\n",
       "\\item 'ZCCHC2'\n",
       "\\end{enumerate*}\n"
      ],
      "text/markdown": [
       "1. 'GTF3A'\n",
       "2. 'SKAP2'\n",
       "3. 'ZCCHC2'\n",
       "\n",
       "\n"
      ],
      "text/plain": [
       "[1] \"GTF3A\"  \"SKAP2\"  \"ZCCHC2\""
      ]
     },
     "metadata": {},
     "output_type": "display_data"
    },
    {
     "data": {
      "text/html": [],
      "text/latex": [],
      "text/markdown": [],
      "text/plain": [
       "character(0)"
      ]
     },
     "metadata": {},
     "output_type": "display_data"
    },
    {
     "data": {
      "text/html": [
       "<ol class=list-inline>\n",
       "\t<li>'GTF3A'</li>\n",
       "\t<li>'LRRC37B'</li>\n",
       "\t<li>'RPL26'</li>\n",
       "\t<li>'ZNF598'</li>\n",
       "</ol>\n"
      ],
      "text/latex": [
       "\\begin{enumerate*}\n",
       "\\item 'GTF3A'\n",
       "\\item 'LRRC37B'\n",
       "\\item 'RPL26'\n",
       "\\item 'ZNF598'\n",
       "\\end{enumerate*}\n"
      ],
      "text/markdown": [
       "1. 'GTF3A'\n",
       "2. 'LRRC37B'\n",
       "3. 'RPL26'\n",
       "4. 'ZNF598'\n",
       "\n",
       "\n"
      ],
      "text/plain": [
       "[1] \"GTF3A\"   \"LRRC37B\" \"RPL26\"   \"ZNF598\" "
      ]
     },
     "metadata": {},
     "output_type": "display_data"
    }
   ],
   "source": [
    "################ Boruta\n",
    "library(\"Boruta\")\n",
    "radiomics <- train[,1:33]\n",
    "genomics <- train[,c(1,34:5301)]\n",
    "\n",
    "######### 1. Boruta_getImpRfZ \n",
    "boruta.radiomics_result_boruta_getImpRfZ <- Boruta(Histology ~ ., data = radiomics, getImp = getImpRfZ)\n",
    "result.radiomics_result_boruta_getImpRfZ  <- boruta.radiomics_result_boruta_getImpRfZ $finalDecision\n",
    "final.radiomics_result_boruta_getImpRfZ  <- result.radiomics_result_boruta_getImpRfZ [result.radiomics_result_boruta_getImpRfZ  %in% c(\"Confirmed\")]\n",
    "names(final.radiomics_result_boruta_getImpRfZ)\n",
    "\n",
    "boruta.genomics_result_boruta_getImpRfZ <- Boruta(Histology ~ ., data = genomics, getImp = getImpRfZ)\n",
    "result.genomics_result_boruta_getImpRfZ  <- boruta.genomics_result_boruta_getImpRfZ $finalDecision\n",
    "final.genomics_result_boruta_getImpRfZ  <- result.genomics_result_boruta_getImpRfZ [result.genomics_result_boruta_getImpRfZ  %in% c(\"Confirmed\")]\n",
    "names(final.genomics_result_boruta_getImpRfZ)\n",
    "\n",
    "######### 2. Boruta_getImpFerns\n",
    "boruta.radiomics_result_boruta_getImpFerns<- Boruta(Histology ~ ., data = radiomics, getImp = getImpFerns)\n",
    "result.radiomics_result_boruta_getImpFerns <- boruta.radiomics_result_boruta_getImpFerns$finalDecision\n",
    "final.radiomics_result_boruta_getImpFerns <- result.radiomics_result_boruta_getImpFerns[result.radiomics_result_boruta_getImpFerns %in% c(\"Confirmed\")]\n",
    "names(final.radiomics_result_boruta_getImpFerns)\n",
    "\n",
    "boruta.genomics_result_boruta_getImpFerns<- Boruta(Histology ~ ., data = genomics, getImp = getImpFerns)\n",
    "result.genomics_result_boruta_getImpFerns <- boruta.genomics_result_boruta_getImpFerns$finalDecision\n",
    "final.genomics_result_boruta_getImpFerns <- result.genomics_result_boruta_getImpFerns[result.genomics_result_boruta_getImpFerns %in% c(\"Confirmed\")]\n",
    "names(final.genomics_result_boruta_getImpFerns)\n",
    "\n",
    "######### 3. Boruta_getImpXgboost\n",
    "boruta.radiomics_result_boruta_getImpXgboost<- Boruta(Histology ~ ., data = radiomics, getImp = getImpXgboost)\n",
    "result.radiomics_result_boruta_getImpXgboost <- boruta.radiomics_result_boruta_getImpXgboost$finalDecision\n",
    "final.radiomics_result_boruta_getImpXgboost <- result.radiomics_result_boruta_getImpXgboost[result.radiomics_result_boruta_getImpXgboost %in% c(\"Confirmed\")]\n",
    "names(final.radiomics_result_boruta_getImpXgboost)\n",
    "\n",
    "boruta.genomics_result_boruta_getImpXgboost<- Boruta(Histology ~ ., data = genomics, getImp = getImpXgboost)\n",
    "result.genomics_result_boruta_getImpXgboost <- boruta.genomics_result_boruta_getImpXgboost$finalDecision\n",
    "final.genomics_result_boruta_getImpXgboost <- result.genomics_result_boruta_getImpXgboost[result.genomics_result_boruta_getImpXgboost %in% c(\"Confirmed\")]\n",
    "names(final.genomics_result_boruta_getImpXgboost)\n",
    "\n",
    "######### 4. Boruta_getImpExtraZ\n",
    "boruta.radiomics_result_boruta_getImpExtraZ<- Boruta(Histology ~ ., data = radiomics, getImp = getImpExtraZ)\n",
    "result.radiomics_result_boruta_getImpExtraZ <- boruta.radiomics_result_boruta_getImpExtraZ$finalDecision\n",
    "final.radiomics_result_boruta_getImpExtraZ <- result.radiomics_result_boruta_getImpExtraZ[result.radiomics_result_boruta_getImpExtraZ %in% c(\"Confirmed\")]\n",
    "names(final.radiomics_result_boruta_getImpExtraZ)\n",
    "\n",
    "boruta.genomics_result_boruta_getImpExtraZ<- Boruta(Histology ~ ., data = genomics, getImp = getImpExtraZ)\n",
    "result.genomics_result_boruta_getImpExtraZ <- boruta.genomics_result_boruta_getImpExtraZ$finalDecision\n",
    "final.genomics_result_boruta_getImpExtraZ <- result.genomics_result_boruta_getImpExtraZ[result.genomics_result_boruta_getImpExtraZ %in% c(\"Confirmed\")]\n",
    "names(final.genomics_result_boruta_getImpExtraZ)\n",
    "\n",
    "######### 5. Boruta_getImpLegacyRfZ\n",
    "boruta.radiomics_getImpLegacyRfZ<- Boruta(Histology ~ ., data = radiomics, getImp = getImpLegacyRfZ)\n",
    "result.radiomics_getImpLegacyRfZ <- boruta.radiomics_getImpLegacyRfZ$finalDecision\n",
    "final.radiomics_getImpLegacyRfZ <- result.radiomics_getImpLegacyRfZ[result.radiomics_getImpLegacyRfZ %in% c(\"Confirmed\")]\n",
    "names(final.radiomics_getImpLegacyRfZ)\n",
    "\n",
    "boruta.genomics_getImpLegacyRfZ<- Boruta(Histology ~ ., data = genomics, getImp = getImpLegacyRfZ)\n",
    "result.genomics_getImpLegacyRfZ <- boruta.genomics_getImpLegacyRfZ$finalDecision\n",
    "final.genomics_getImpLegacyRfZ <- result.genomics_getImpLegacyRfZ[result.genomics_getImpLegacyRfZ %in% c(\"Confirmed\")]\n",
    "names(final.genomics_getImpLegacyRfZ)\n",
    "\n",
    "######### 6. Boruta_getImpExtraGini\n",
    "boruta.radiomics_getImpExtraGini<- Boruta(Histology ~ ., data = radiomics, getImp = getImpExtraGini)\n",
    "result.radiomics_getImpExtraGini <- boruta.radiomics_getImpExtraGini$finalDecision\n",
    "final.radiomics_getImpExtraGini <- result.radiomics_getImpExtraGini[result.radiomics_getImpExtraGini %in% c(\"Confirmed\")]\n",
    "names(final.radiomics_getImpExtraGini)\n",
    "\n",
    "boruta.genomics_getImpExtraGini<- Boruta(Histology ~ ., data = genomics, getImp = getImpExtraGini)\n",
    "result.genomics_getImpExtraGini <- boruta.genomics_getImpExtraGini$finalDecision\n",
    "final.genomics_getImpExtraGini <- result.genomics_getImpExtraGini[result.genomics_getImpExtraGini %in% c(\"Confirmed\")]\n",
    "names(final.genomics_getImpExtraGini)\n",
    "\n",
    "######### 7. Boruta_getImpExtraRaw\n",
    "boruta.radiomics_result_boruta_getImpExtraRaw<- Boruta(Histology ~ ., data = radiomics, getImp = getImpExtraRaw)\n",
    "result.radiomics_result_boruta_getImpExtraRaw <- boruta.radiomics_result_boruta_getImpExtraRaw$finalDecision\n",
    "final.radiomics_result_boruta_getImpExtraRaw <- result.radiomics_result_boruta_getImpExtraRaw[result.radiomics_result_boruta_getImpExtraRaw %in% c(\"Confirmed\")]\n",
    "names(final.radiomics_result_boruta_getImpExtraRaw)\n",
    "\n",
    "boruta.genomics_result_boruta_getImpExtraRaw<- Boruta(Histology ~ ., data = genomics, getImp = getImpExtraRaw)\n",
    "result.genomics_result_boruta_getImpExtraRaw <- boruta.genomics_result_boruta_getImpExtraRaw$finalDecision\n",
    "final.genomics_result_boruta_getImpExtraRaw <- result.genomics_result_boruta_getImpExtraRaw[result.genomics_result_boruta_getImpExtraRaw %in% c(\"Confirmed\")]\n",
    "names(final.genomics_result_boruta_getImpExtraRaw)\n",
    "\n",
    "\n"
   ]
  },
  {
   "cell_type": "code",
   "execution_count": 74,
   "id": "ddbbabc5-80da-4078-85da-63c42658cefb",
   "metadata": {},
   "outputs": [],
   "source": []
  },
  {
   "cell_type": "code",
   "execution_count": 76,
   "id": "b6ff51d9-2653-4060-94be-5160b2d4ca5b",
   "metadata": {},
   "outputs": [
    {
     "name": "stdout",
     "output_type": "stream",
     "text": [
      "\n",
      "  There is a binary version available but the source version is later:\n",
      "       binary source needs_compilation\n",
      "rFerns  4.0.0  5.0.0              TRUE\n",
      "\n",
      "  Binaries will be installed\n",
      "package 'rFerns' successfully unpacked and MD5 sums checked\n",
      "\n",
      "The downloaded binary packages are in\n",
      "\tC:\\Users\\Asus\\AppData\\Local\\Temp\\Rtmp0eTO3Y\\downloaded_packages\n"
     ]
    }
   ],
   "source": [
    "install.packages(\"rFerns\")"
   ]
  },
  {
   "cell_type": "code",
   "execution_count": 41,
   "id": "f196fcd2-e953-47d9-aad3-917e00b5ec40",
   "metadata": {},
   "outputs": [
    {
     "ename": "ERROR",
     "evalue": "Error in colttests(as.matrix(train[, 34:5301]), as.factor(train$Histology)): could not find function \"colttests\"\n",
     "output_type": "error",
     "traceback": [
      "Error in colttests(as.matrix(train[, 34:5301]), as.factor(train$Histology)): could not find function \"colttests\"\nTraceback:\n"
     ]
    }
   ],
   "source": [
    "################################################### Univariate analysis ###################################################\n",
    "###### Student's t-test\n",
    "\n",
    "ttest_results_g <- colttests(as.matrix(train[,34:5301]), as.factor(train$Histology))$p.value\n",
    "names_genomics <- names(train[,34:5301])\n",
    "genomics_new <- cbind(names_genomics, ttest_results_g)\n",
    "genomics_new <- as.data.frame(genomics_new)\n",
    "genomics_new$ttest_results_g <- as.numeric(genomics_new$ttest_results_g)\n",
    "genomics_new_new <- genomics_new[order(genomics_new$ttest_results_g, decreasing = FALSE),] \n",
    "genomics_new_new_new <- genomics_new_new[seq(1, 5, 1),]\n",
    "\n",
    "genomics_dataset <- train[,34:5301]\n",
    "genomics_data_t_test <- subset(genomics_dataset, select=genomics_new_new_new$names_genomics)\n",
    "genetic_data_t_test_histology <- cbind(train$Histology, genomics_data_t_test)\n",
    "names(genetic_data_t_test_histology)[1] <- \"Histology\"\n",
    "\n",
    "########### Corr. Filter\n",
    "#mtx_g = cor(genetic_data_AUC)\n",
    "#drop_g = findCorrelation(mtx_g, cutoff = .9)\n",
    "#drop_g = names(genetic_data_AUC)[drop_g]\n",
    "\n",
    "#genomics_data_AUC_2 <- subset(genetic_data_AUC, select = ! names(genetic_data_AUC) %in% drop_g)\n",
    "#genetic_data_AUC_histology <- cbind(train$Histology, genomics_data_AUC_2)\n",
    "#names(genetic_data_AUC_histology)[1] <- \"Histology\"\n",
    "\n",
    "\n",
    "radiomics_rfe<-radiomics_data_t_test_Histology\n",
    "genomics_rfe<-genetic_data_t_test_histology\n",
    "all_rfe <- cbind(radiomics_rfe, genomics_rfe[,-1])\n",
    "########## Elastic Net\n",
    "model_en_rfe_radiomics = train(Histology~., data = radiomics_rfe, method = \"glmnet\", trControl = ctrl, tuneLength = 5)\n",
    "pred_en_rfe_radiomics <- predict(model_en_rfe_radiomics, test[,-1])\n",
    "perf_en_rfe_radiomics <- confMat(pred_en_rfe_radiomics, test$Histology, verbose = FALSE)$all\n",
    "\n",
    "model_en_rfe_genomics = train(Histology~., data = genomics_rfe, method = \"glmnet\", trControl = ctrl, tuneLength = 5)\n",
    "pred_en_rfe_genomics <- predict(model_en_rfe_genomics, test[,-1])\n",
    "perf_en_rfe_genomics <- confMat(pred_en_rfe_genomics, test$Histology, verbose = FALSE)$all\n",
    "\n",
    "model_en_rfe_all = train(Histology~., data = all_rfe, method = \"glmnet\", trControl = ctrl, tuneLength = 5)\n",
    "pred_en_rfe_all <- predict(model_en_rfe_all, test[,-1])\n",
    "perf_en_rfe_all <- confMat(pred_en_rfe_all, test$Histology, verbose = FALSE)$all\n",
    "\n",
    "\n",
    "########## Random Forest\n",
    "model_rf_rfe_radiomics = train(Histology~., data = radiomics_rfe, method = \"rf\", trControl = ctrl, tuneLength = 5)\n",
    "pred_rf_rfe_radiomics <- predict(model_rf_rfe_radiomics, test[,-1])\n",
    "perf_rf_rfe_radiomics <- confMat(pred_rf_rfe_radiomics, test$Histology, verbose = FALSE)$all\n",
    "\n",
    "model_rf_rfe_genomics = train(Histology~., data = genomics_rfe, method = \"rf\", trControl = ctrl, tuneLength = 5)\n",
    "pred_rf_rfe_genomics <- predict(model_rf_rfe_genomics, test[,-1])\n",
    "perf_rf_rfe_genomics <- confMat(pred_rf_rfe_genomics, test$Histology, verbose = FALSE)$all\n",
    "\n",
    "model_rf_rfe_all = train(Histology~., data = all_rfe, method = \"rf\", trControl = ctrl, tuneLength = 5)\n",
    "pred_rf_rfe_all <- predict(model_rf_rfe_all, test[,-1])\n",
    "perf_rf_rfe_all <- confMat(pred_rf_rfe_all, test$Histology, verbose = FALSE)$all\n",
    "\n",
    "\n",
    "########## Support Vector Machines - Linear\n",
    "model_svm_linear_rfe_radiomics = train(Histology~., data = radiomics_rfe, method = \"svmLinear\", trControl = ctrl, tuneLength = 5)\n",
    "pred_svm_linear_rfe_radiomics <- predict(model_svm_linear_rfe_radiomics, test[,-1])\n",
    "perf_svm_linear_rfe_radiomics <- confMat(pred_svm_linear_rfe_radiomics, test$Histology, verbose = FALSE)$all\n",
    "\n",
    "model_svm_linear_rfe_genomics = train(Histology~., data = genomics_rfe, method = \"svmLinear\", trControl = ctrl, tuneLength = 5)\n",
    "pred_svm_linear_rfe_genomics <- predict(model_svm_linear_rfe_genomics, test[,-1])\n",
    "perf_svm_linear_rfe_genomics <- confMat(pred_svm_linear_rfe_genomics, test$Histology, verbose = FALSE)$all\n",
    "\n",
    "model_svm_linear_rfe_all = train(Histology~., data = all_rfe, method = \"svmLinear\", trControl = ctrl, tuneLength = 5)\n",
    "pred_svm_linear_rfe_all <- predict(model_svm_linear_rfe_all, test[,-1])\n",
    "perf_svm_linear_rfe_all <- confMat(pred_svm_linear_rfe_all, test$Histology, verbose = FALSE)$all\n",
    "\n",
    "\n",
    "########## Support Vector Machines - Radial\n",
    "model_svm_radial_rfe_radiomics = train(Histology~., data = radiomics_rfe, method = \"svmRadial\", trControl = ctrl, tuneLength = 5)\n",
    "pred_svm_radial_rfe_radiomics <- predict(model_svm_radial_rfe_radiomics, test[,-1])\n",
    "perf_svm_radial_rfe_radiomics <- confMat(pred_svm_radial_rfe_radiomics, test$Histology, verbose = FALSE)$all\n",
    "\n",
    "model_svm_radial_rfe_genomics = train(Histology~., data = genomics_rfe, method = \"svmRadial\", trControl = ctrl, tuneLength = 5)\n",
    "pred_svm_radial_rfe_genomics <- predict(model_svm_radial_rfe_genomics, test[,-1])\n",
    "perf_svm_radial_rfe_genomics <- confMat(pred_svm_radial_rfe_genomics, test$Histology, verbose = FALSE)$all\n",
    "\n",
    "model_svm_radial_rfe_all = train(Histology~., data = all_rfe, method = \"svmRadial\", trControl = ctrl, tuneLength = 5)\n",
    "pred_svm_radial_rfe_all <- predict(model_svm_radial_rfe_all, test[,-1])\n",
    "perf_svm_radial_rfe_all <- confMat(pred_svm_radial_rfe_all, test$Histology, verbose = FALSE)$all\n",
    "\n",
    "\n",
    "\n",
    "########## Support Vector Machines - Polynomial\n",
    "model_svm_poly_rfe_radiomics = train(Histology~., data = radiomics_rfe, method = \"svmPoly\", trControl = ctrl, tuneLength = 5)\n",
    "pred_svm_poly_rfe_radiomics <- predict(model_svm_poly_rfe_radiomics, test[,-1])\n",
    "perf_svm_poly_rfe_radiomics <- confMat(pred_svm_poly_rfe_radiomics, test$Histology, verbose = FALSE)$all\n",
    "\n",
    "model_svm_poly_rfe_genomics = train(Histology~., data = genomics_rfe, method = \"svmPoly\", trControl = ctrl, tuneLength = 5)\n",
    "pred_svm_poly_rfe_genomics <- predict(model_svm_poly_rfe_genomics, test[,-1])\n",
    "perf_svm_poly_rfe_genomics <- confMat(pred_svm_poly_rfe_genomics, test$Histology, verbose = FALSE)$all\n",
    "\n",
    "model_svm_poly_rfe_all = train(Histology~., data = all_rfe, method = \"svmPoly\", trControl = ctrl, tuneLength = 5)\n",
    "pred_svm_poly_rfe_all <- predict(model_svm_poly_rfe_all, test[,-1])\n",
    "perf_svm_poly_rfe_all <- confMat(pred_svm_poly_rfe_all, test$Histology, verbose = FALSE)$all\n",
    "\n",
    "\n",
    "\n",
    "\n",
    "########## Artificial Neural Networks\n",
    "model_ann_rfe_radiomics = train(Histology~., data = radiomics_rfe, method = \"nnet\", trControl = ctrl, trace = FALSE, tuneLength = 5)\n",
    "pred_ann_rfe_radiomics <- predict(model_ann_rfe_radiomics, test[,-1])\n",
    "perf_ann_rfe_radiomics <- confMat(pred_ann_rfe_radiomics, test$Histology, verbose = FALSE)$all\n",
    "\n",
    "model_ann_rfe_genomics = train(Histology~., data = genomics_rfe, method = \"nnet\", trControl = ctrl, trace = FALSE, tuneLength = 5)\n",
    "pred_ann_rfe_genomics <- predict(model_ann_rfe_genomics, test[,-1])\n",
    "perf_ann_rfe_genomics <- confMat(pred_ann_rfe_genomics, test$Histology, verbose = FALSE)$all\n",
    "\n",
    "model_ann_rfe_all = train(Histology~., data = all_rfe, method = \"nnet\", trControl = ctrl, trace = FALSE, tuneLength = 5)\n",
    "pred_ann_rfe_all <- predict(model_ann_rfe_all, test[,-1])\n",
    "perf_ann_rfe_all <- confMat(pred_ann_rfe_all, test$Histology, verbose = FALSE)$all\n",
    "\n",
    "\n",
    "\n",
    "########## XGBoost\n",
    "model_xgboost_rfe_radiomics = train(Histology~., data = radiomics_rfe, method = \"xgbTree\", trControl = ctrl, tuneLength = 5)\n",
    "pred_xgboost_rfe_radiomics <- predict(model_xgboost_rfe_radiomics, test[,-1])\n",
    "perf_xgboost_rfe_radiomics <- confMat(pred_xgboost_rfe_radiomics, test$Histology, verbose = FALSE)$all\n",
    "\n",
    "model_xgboost_rfe_genomics = train(Histology~., data = genomics_rfe, method = \"xgbTree\", trControl = ctrl, tuneLength = 5)\n",
    "pred_xgboost_rfe_genomics <- predict(model_xgboost_rfe_genomics, test[,-1])\n",
    "perf_xgboost_rfe_genomics <- confMat(pred_xgboost_rfe_genomics, test$Histology, verbose = FALSE)$all\n",
    "\n",
    "model_xgboost_rfe_all = train(Histology~., data = all_rfe, method = \"xgbTree\", trControl = ctrl, tuneLength = 5)\n",
    "pred_xgboost_rfe_all <- predict(model_xgboost_rfe_all, test[,-1])\n",
    "perf_xgboost_rfe_all <- confMat(pred_xgboost_rfe_all, test$Histology, verbose = FALSE)$all\n",
    "\n",
    "\n",
    "\n",
    "\n",
    "results <- cbind(perf_en_rfe_radiomics, perf_en_rfe_genomics, perf_en_rfe_all, \n",
    "                 perf_rf_rfe_radiomics, perf_rf_rfe_genomics, perf_rf_rfe_all, \n",
    "                 perf_svm_linear_rfe_radiomics, perf_svm_linear_rfe_genomics, perf_svm_linear_rfe_all, \n",
    "                 perf_svm_radial_rfe_radiomics, perf_svm_radial_rfe_genomics, perf_svm_radial_rfe_all, \n",
    "                 perf_svm_poly_rfe_radiomics, perf_svm_poly_rfe_genomics, perf_svm_poly_rfe_all, \n",
    "                 perf_ann_rfe_radiomics, perf_ann_rfe_genomics, perf_ann_rfe_all, \n",
    "                 perf_xgboost_rfe_radiomics, perf_xgboost_rfe_genomics, perf_xgboost_rfe_all)\n",
    "\n",
    "\n",
    "colnames(results) <- c(\"Elastic  net radiomics\", \"Elastic  net genomics\", \"Elastic net all\", \n",
    "                       \"Random forest radiomics\", \"Random forest genomics\", \"Random forest all\", \n",
    "                       \"SVM-linear radiomics\", \"SVM-linear genomics\", \"SVM-linear all\", \n",
    "                       \"SVM-radial radiomics\", \"SVM-radial genomics\", \"SVM-radial all\",  \n",
    "                       \"SVM-poly radiomics\", \"SVM-poly genomics\",  \"SVM-poly all\", \n",
    "                       \"ANN radiomics\", \"ANN genomics\", \"ANN all\", \n",
    "                       \"Xgboost radiomics\", \"Xgboost genomics\", \"Xgboost all\")\n",
    "\n",
    "write.csv(results, \"Result_Scenario9_set.seed_123_t_test_p_5.csv\")\n",
    "View(results)\n",
    "\n",
    "end <- Sys.time()\n",
    "end-start\n",
    "\n"
   ]
  },
  {
   "cell_type": "code",
   "execution_count": 38,
   "id": "3ca0d658-0981-4b0d-b3cd-27b5f2eb4d59",
   "metadata": {},
   "outputs": [
    {
     "data": {
      "text/plain": [
       "Time difference of 48.66725 mins"
      ]
     },
     "metadata": {},
     "output_type": "display_data"
    }
   ],
   "source": [
    "end <- Sys.time()\n",
    "end-start"
   ]
  }
 ],
 "metadata": {
  "kernelspec": {
   "display_name": "R",
   "language": "R",
   "name": "ir"
  },
  "language_info": {
   "codemirror_mode": "r",
   "file_extension": ".r",
   "mimetype": "text/x-r-source",
   "name": "R",
   "pygments_lexer": "r",
   "version": "3.6.1"
  }
 },
 "nbformat": 4,
 "nbformat_minor": 5
}
